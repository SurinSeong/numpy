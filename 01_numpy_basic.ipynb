{
 "cells": [
  {
   "cell_type": "code",
   "execution_count": 4,
   "metadata": {},
   "outputs": [],
   "source": [
    "import numpy as np"
   ]
  },
  {
   "cell_type": "code",
   "execution_count": 2,
   "metadata": {},
   "outputs": [
    {
     "name": "stdout",
     "output_type": "stream",
     "text": [
      "[1, 2, 3]\n"
     ]
    }
   ],
   "source": [
    "# 리스트와 넘파이의 차이\n",
    "list_ = [1, 2, 3]\n",
    "print(list_)"
   ]
  },
  {
   "cell_type": "code",
   "execution_count": 7,
   "metadata": {},
   "outputs": [
    {
     "name": "stdout",
     "output_type": "stream",
     "text": [
      "[1 2 3]\n",
      "1\n",
      "3\n"
     ]
    },
    {
     "data": {
      "text/plain": [
       "array([1, 2, 3])"
      ]
     },
     "execution_count": 7,
     "metadata": {},
     "output_type": "execute_result"
    }
   ],
   "source": [
    "# array : 배열\n",
    "# np.array([]) 형태\n",
    "\n",
    "arr = np.array([1, 2, 3])\n",
    "print(arr) # 리스트와 같이 출력됨 (하지만 ,가 없음)\n",
    "print(arr[0]) # 인덱싱 가능 = 순서가 있음.\n",
    "print(arr[-1])\n",
    "arr"
   ]
  },
  {
   "cell_type": "code",
   "execution_count": 9,
   "metadata": {},
   "outputs": [
    {
     "name": "stdout",
     "output_type": "stream",
     "text": [
      "[1, 2, 3, 4, 5, 6]\n",
      "6\n"
     ]
    }
   ],
   "source": [
    "# 넘파이 배우는 이유 : 같은 위치의 원소끼리 연산이 가능하기 때문이다.\n",
    "\n",
    "# 리스트 + 리스트 = 연장된 리스트\n",
    "c = [1, 2, 3] + [4, 5, 6]\n",
    "print(c)\n",
    "print(len(c))"
   ]
  },
  {
   "cell_type": "code",
   "execution_count": 10,
   "metadata": {},
   "outputs": [
    {
     "data": {
      "text/plain": [
       "array([5, 7, 9])"
      ]
     },
     "execution_count": 10,
     "metadata": {},
     "output_type": "execute_result"
    }
   ],
   "source": [
    "arr_a = np.array([1, 2, 3])\n",
    "arr_b = np.array([4, 5, 6])\n",
    "\n",
    "# 같은 위치에 있는 값끼리 더한다. ==> 연산이 된다.\n",
    "arr_a + arr_b"
   ]
  },
  {
   "cell_type": "code",
   "execution_count": 13,
   "metadata": {},
   "outputs": [
    {
     "name": "stdout",
     "output_type": "stream",
     "text": [
      "[7 8 9]\n",
      "9\n"
     ]
    }
   ],
   "source": [
    "# 여러 개의 리스트를 담으려면 []안에 여러 []를 작성해야 한다.\n",
    "arr_e = np.array([[1, 2, 3], [4, 5, 6], [7, 8, 9]]) # 2차원 --> 행렬\n",
    "print(arr_e[-1])\n",
    "print(arr_e[-1][-1])"
   ]
  },
  {
   "cell_type": "markdown",
   "metadata": {},
   "source": [
    "## Numpy 배열 속성"
   ]
  },
  {
   "cell_type": "code",
   "execution_count": 16,
   "metadata": {},
   "outputs": [
    {
     "name": "stdout",
     "output_type": "stream",
     "text": [
      "[[1 2 3]\n",
      " [4 5 6]\n",
      " [7 8 9]]\n"
     ]
    },
    {
     "data": {
      "text/plain": [
       "(3, 3)"
      ]
     },
     "execution_count": 16,
     "metadata": {},
     "output_type": "execute_result"
    }
   ],
   "source": [
    "# shape : 배열의 형태 확인하기 (행, 열)\n",
    "print(arr_e)\n",
    "arr_e.shape"
   ]
  },
  {
   "cell_type": "code",
   "execution_count": 17,
   "metadata": {},
   "outputs": [
    {
     "name": "stdout",
     "output_type": "stream",
     "text": [
      "[1 2 3]\n"
     ]
    },
    {
     "data": {
      "text/plain": [
       "(3,)"
      ]
     },
     "execution_count": 17,
     "metadata": {},
     "output_type": "execute_result"
    }
   ],
   "source": [
    "print(arr_a)\n",
    "arr_a.shape # 1차원"
   ]
  },
  {
   "cell_type": "code",
   "execution_count": 25,
   "metadata": {},
   "outputs": [
    {
     "name": "stdout",
     "output_type": "stream",
     "text": [
      "[[1]\n",
      " [2]\n",
      " [3]]\n"
     ]
    },
    {
     "data": {
      "text/plain": [
       "(3, 1)"
      ]
     },
     "execution_count": 25,
     "metadata": {},
     "output_type": "execute_result"
    }
   ],
   "source": [
    "# 질문\n",
    "arr_f = np.array([[1], [2], [3]])\n",
    "print(arr_f)\n",
    "arr_f.shape # 2차원"
   ]
  },
  {
   "cell_type": "code",
   "execution_count": 19,
   "metadata": {},
   "outputs": [
    {
     "data": {
      "text/plain": [
       "(2, 3)"
      ]
     },
     "execution_count": 19,
     "metadata": {},
     "output_type": "execute_result"
    }
   ],
   "source": [
    "arr_m = np.array([[1, 2, 3], [4, 5, 6]])\n",
    "arr_m.shape"
   ]
  },
  {
   "cell_type": "code",
   "execution_count": 21,
   "metadata": {},
   "outputs": [
    {
     "name": "stdout",
     "output_type": "stream",
     "text": [
      "2\n",
      "1\n"
     ]
    }
   ],
   "source": [
    "# ndim(number of dimension) : 배열의 차원 수\n",
    "print(arr_f.ndim)\n",
    "print(arr_a.ndim)"
   ]
  },
  {
   "cell_type": "code",
   "execution_count": 22,
   "metadata": {},
   "outputs": [
    {
     "data": {
      "text/plain": [
       "dtype('int32')"
      ]
     },
     "execution_count": 22,
     "metadata": {},
     "output_type": "execute_result"
    }
   ],
   "source": [
    "# dtype(data type) : 요소의 자료형\n",
    "arr_f.dtype"
   ]
  },
  {
   "cell_type": "code",
   "execution_count": 23,
   "metadata": {},
   "outputs": [
    {
     "data": {
      "text/plain": [
       "4"
      ]
     },
     "execution_count": 23,
     "metadata": {},
     "output_type": "execute_result"
    }
   ],
   "source": [
    "# itemsize : 요소의 한 개의 크기\n",
    "arr_f.itemsize"
   ]
  },
  {
   "cell_type": "code",
   "execution_count": 24,
   "metadata": {},
   "outputs": [
    {
     "data": {
      "text/plain": [
       "3"
      ]
     },
     "execution_count": 24,
     "metadata": {},
     "output_type": "execute_result"
    }
   ],
   "source": [
    "# size = 전체 요소의 개수\n",
    "arr_f.size"
   ]
  },
  {
   "cell_type": "code",
   "execution_count": 42,
   "metadata": {},
   "outputs": [
    {
     "data": {
      "text/plain": [
       "array([[0., 0., 0., 0.],\n",
       "       [0., 0., 0., 0.],\n",
       "       [0., 0., 0., 0.]])"
      ]
     },
     "execution_count": 42,
     "metadata": {},
     "output_type": "execute_result"
    }
   ],
   "source": [
    "np.zeros((3, 4))"
   ]
  },
  {
   "cell_type": "code",
   "execution_count": 43,
   "metadata": {},
   "outputs": [
    {
     "name": "stdout",
     "output_type": "stream",
     "text": [
      "[[1. 1. 1. 1.]\n",
      " [1. 1. 1. 1.]\n",
      " [1. 1. 1. 1.]]\n",
      "float64\n"
     ]
    }
   ],
   "source": [
    "print(np.ones((3, 4)))\n",
    "print(np.ones((3, 4)).dtype)"
   ]
  },
  {
   "cell_type": "code",
   "execution_count": 27,
   "metadata": {},
   "outputs": [
    {
     "data": {
      "text/plain": [
       "array([[1., 0., 0.],\n",
       "       [0., 1., 0.],\n",
       "       [0., 0., 1.]])"
      ]
     },
     "execution_count": 27,
     "metadata": {},
     "output_type": "execute_result"
    }
   ],
   "source": [
    "# 항등행렬\n",
    "np.eye(3)"
   ]
  },
  {
   "cell_type": "code",
   "execution_count": 28,
   "metadata": {},
   "outputs": [
    {
     "data": {
      "text/plain": [
       "array([0, 1, 2, 3, 4])"
      ]
     },
     "execution_count": 28,
     "metadata": {},
     "output_type": "execute_result"
    }
   ],
   "source": [
    "# arange() (array + range) : 배열의 범위\n",
    "# np.arange(start, stop, step)\n",
    "\n",
    "np.arange(5)"
   ]
  },
  {
   "cell_type": "code",
   "execution_count": 29,
   "metadata": {},
   "outputs": [
    {
     "name": "stdout",
     "output_type": "stream",
     "text": [
      "[0 1 2 3 4]\n"
     ]
    }
   ],
   "source": [
    "print(np.arange(5))"
   ]
  },
  {
   "cell_type": "code",
   "execution_count": 30,
   "metadata": {},
   "outputs": [
    {
     "data": {
      "text/plain": [
       "array([1, 2, 3, 4, 5])"
      ]
     },
     "execution_count": 30,
     "metadata": {},
     "output_type": "execute_result"
    }
   ],
   "source": [
    "np.arange(1, 6)"
   ]
  },
  {
   "cell_type": "code",
   "execution_count": 31,
   "metadata": {},
   "outputs": [
    {
     "data": {
      "text/plain": [
       "array([1, 3, 5, 7, 9])"
      ]
     },
     "execution_count": 31,
     "metadata": {},
     "output_type": "execute_result"
    }
   ],
   "source": [
    "np.arange(1, 10, 2)"
   ]
  },
  {
   "cell_type": "code",
   "execution_count": 32,
   "metadata": {},
   "outputs": [
    {
     "data": {
      "text/plain": [
       "array([ 0.        ,  1.11111111,  2.22222222,  3.33333333,  4.44444444,\n",
       "        5.55555556,  6.66666667,  7.77777778,  8.88888889, 10.        ])"
      ]
     },
     "execution_count": 32,
     "metadata": {},
     "output_type": "execute_result"
    }
   ],
   "source": [
    "# linspace()\n",
    "# 0부터 10까지에서 동등하게 10개로 균등하게 나눠주기\n",
    "np.linspace(0, 10, 10)"
   ]
  },
  {
   "cell_type": "code",
   "execution_count": 33,
   "metadata": {},
   "outputs": [
    {
     "data": {
      "text/plain": [
       "array([ 1.  ,  3.25,  5.5 ,  7.75, 10.  ])"
      ]
     },
     "execution_count": 33,
     "metadata": {},
     "output_type": "execute_result"
    }
   ],
   "source": [
    "np.linspace(1, 10, 5)"
   ]
  },
  {
   "cell_type": "code",
   "execution_count": 35,
   "metadata": {},
   "outputs": [
    {
     "name": "stdout",
     "output_type": "stream",
     "text": [
      "[[1 2]\n",
      " [3 4]]\n",
      "[[5 6]\n",
      " [7 8]]\n"
     ]
    }
   ],
   "source": [
    "# 2개의 배열 합치기\n",
    "x = np.array([[1, 2], [3, 4]])\n",
    "y = np.array([[5, 6], [7, 8]])\n",
    "\n",
    "print(x)\n",
    "print(y)"
   ]
  },
  {
   "cell_type": "code",
   "execution_count": 38,
   "metadata": {},
   "outputs": [
    {
     "name": "stdout",
     "output_type": "stream",
     "text": [
      "[[1 2]\n",
      " [3 4]\n",
      " [5 6]\n",
      " [7 8]]\n",
      "(4, 2)\n",
      "[[1 2 5 6]\n",
      " [3 4 7 8]]\n",
      "(2, 4)\n"
     ]
    }
   ],
   "source": [
    "# concatenate() : 배열 합치기 (default : axis=0)\n",
    "concat_0 = np.concatenate((x, y))\n",
    "concat_1 = np.concatenate((x, y), axis=1)\n",
    "print(concat_0)\n",
    "print(concat_0.shape)\n",
    "print(concat_1)\n",
    "print(concat_1.shape)"
   ]
  },
  {
   "cell_type": "code",
   "execution_count": 41,
   "metadata": {},
   "outputs": [
    {
     "name": "stdout",
     "output_type": "stream",
     "text": [
      "[[1 2]\n",
      " [3 4]\n",
      " [5 6]\n",
      " [7 8]]\n",
      "[[1 2 5 6]\n",
      " [3 4 7 8]]\n"
     ]
    }
   ],
   "source": [
    "# vstack, hstack\n",
    "# vstack(vertical stack) = concatenate(axis=0)\n",
    "# hstack(horizontal stack) = concatenate(axis=1)\n",
    "\n",
    "print(np.vstack((x, y)))\n",
    "print(np.hstack((x, y)))"
   ]
  },
  {
   "cell_type": "markdown",
   "metadata": {},
   "source": [
    "## reshape\n",
    "* 차원 변화, 형태 변화"
   ]
  },
  {
   "cell_type": "code",
   "execution_count": 46,
   "metadata": {},
   "outputs": [
    {
     "name": "stdout",
     "output_type": "stream",
     "text": [
      "[ 0  1  2  3  4  5  6  7  8  9 10 11]\n",
      "(12,)\n"
     ]
    }
   ],
   "source": [
    "a = np.arange(12)\n",
    "print(a)\n",
    "print(a.shape) # 1차원"
   ]
  },
  {
   "cell_type": "code",
   "execution_count": 47,
   "metadata": {},
   "outputs": [
    {
     "name": "stdout",
     "output_type": "stream",
     "text": [
      "[ 0  1  2  3  4  5  6  7  8  9 10 11]\n",
      "[[ 0  1  2  3]\n",
      " [ 4  5  6  7]\n",
      " [ 8  9 10 11]]\n"
     ]
    }
   ],
   "source": [
    "# reshape() : 형태 변경\n",
    "# 1차원 >> 2차원\n",
    "print(a)\n",
    "print(a.reshape(3, 4))"
   ]
  },
  {
   "cell_type": "code",
   "execution_count": 48,
   "metadata": {},
   "outputs": [
    {
     "data": {
      "text/plain": [
       "(3, 4)"
      ]
     },
     "execution_count": 48,
     "metadata": {},
     "output_type": "execute_result"
    }
   ],
   "source": [
    "dim_2 = a.reshape(3, 4)\n",
    "dim_2.shape # 2차원"
   ]
  },
  {
   "cell_type": "code",
   "execution_count": 49,
   "metadata": {},
   "outputs": [
    {
     "data": {
      "text/plain": [
       "array([[ 0,  1,  2,  3],\n",
       "       [ 4,  5,  6,  7],\n",
       "       [ 8,  9, 10, 11]])"
      ]
     },
     "execution_count": 49,
     "metadata": {},
     "output_type": "execute_result"
    }
   ],
   "source": [
    "# 형태 변경할건데, 행은 3개, 열은 전체 원소의 개수를 고려해서 자동으로 맞춰주기\n",
    "# 열의 개수를 정해주고 행을 맞춰줄수도 있음.\n",
    "a.reshape(3, -1)"
   ]
  },
  {
   "cell_type": "code",
   "execution_count": 51,
   "metadata": {},
   "outputs": [
    {
     "data": {
      "text/plain": [
       "array([  0,   1,   2,   3,   4,   5,   6,   7,   8,   9,  10,  11,  12,\n",
       "        13,  14,  15,  16,  17,  18,  19,  20,  21,  22,  23,  24,  25,\n",
       "        26,  27,  28,  29,  30,  31,  32,  33,  34,  35,  36,  37,  38,\n",
       "        39,  40,  41,  42,  43,  44,  45,  46,  47,  48,  49,  50,  51,\n",
       "        52,  53,  54,  55,  56,  57,  58,  59,  60,  61,  62,  63,  64,\n",
       "        65,  66,  67,  68,  69,  70,  71,  72,  73,  74,  75,  76,  77,\n",
       "        78,  79,  80,  81,  82,  83,  84,  85,  86,  87,  88,  89,  90,\n",
       "        91,  92,  93,  94,  95,  96,  97,  98,  99, 100, 101, 102, 103,\n",
       "       104, 105, 106, 107, 108, 109, 110, 111, 112, 113, 114, 115, 116,\n",
       "       117, 118, 119])"
      ]
     },
     "execution_count": 51,
     "metadata": {},
     "output_type": "execute_result"
    }
   ],
   "source": [
    "temp = np.arange(120)\n",
    "temp"
   ]
  },
  {
   "cell_type": "code",
   "execution_count": 52,
   "metadata": {},
   "outputs": [
    {
     "data": {
      "text/plain": [
       "array([[  0,   1,   2,   3,   4,   5,   6,   7,   8,   9,  10,  11,  12,\n",
       "         13,  14,  15,  16,  17,  18,  19,  20,  21,  22,  23,  24,  25,\n",
       "         26,  27,  28,  29,  30,  31,  32,  33,  34,  35,  36,  37,  38,\n",
       "         39],\n",
       "       [ 40,  41,  42,  43,  44,  45,  46,  47,  48,  49,  50,  51,  52,\n",
       "         53,  54,  55,  56,  57,  58,  59,  60,  61,  62,  63,  64,  65,\n",
       "         66,  67,  68,  69,  70,  71,  72,  73,  74,  75,  76,  77,  78,\n",
       "         79],\n",
       "       [ 80,  81,  82,  83,  84,  85,  86,  87,  88,  89,  90,  91,  92,\n",
       "         93,  94,  95,  96,  97,  98,  99, 100, 101, 102, 103, 104, 105,\n",
       "        106, 107, 108, 109, 110, 111, 112, 113, 114, 115, 116, 117, 118,\n",
       "        119]])"
      ]
     },
     "execution_count": 52,
     "metadata": {},
     "output_type": "execute_result"
    }
   ],
   "source": [
    "temp.reshape(3, -1)"
   ]
  },
  {
   "cell_type": "code",
   "execution_count": 54,
   "metadata": {},
   "outputs": [
    {
     "data": {
      "text/plain": [
       "array([ 0,  1,  2,  3,  4,  5,  6,  7,  8,  9, 10])"
      ]
     },
     "execution_count": 54,
     "metadata": {},
     "output_type": "execute_result"
    }
   ],
   "source": [
    "# 나누어떨어지지 않으면 error\n",
    "temp_1 = np.arange(11)\n",
    "temp_1"
   ]
  },
  {
   "cell_type": "code",
   "execution_count": 55,
   "metadata": {},
   "outputs": [
    {
     "ename": "ValueError",
     "evalue": "cannot reshape array of size 11 into shape (2,newaxis)",
     "output_type": "error",
     "traceback": [
      "\u001b[1;31m---------------------------------------------------------------------------\u001b[0m",
      "\u001b[1;31mValueError\u001b[0m                                Traceback (most recent call last)",
      "Cell \u001b[1;32mIn[55], line 1\u001b[0m\n\u001b[1;32m----> 1\u001b[0m temp_1\u001b[38;5;241m.\u001b[39mreshape(\u001b[38;5;241m2\u001b[39m, \u001b[38;5;241m-\u001b[39m\u001b[38;5;241m1\u001b[39m)\n",
      "\u001b[1;31mValueError\u001b[0m: cannot reshape array of size 11 into shape (2,newaxis)"
     ]
    }
   ],
   "source": [
    "temp_1.reshape(2, -1)"
   ]
  },
  {
   "cell_type": "code",
   "execution_count": 57,
   "metadata": {},
   "outputs": [
    {
     "name": "stdout",
     "output_type": "stream",
     "text": [
      "[[ 0  1  2  3  4  5  6  7  8  9]\n",
      " [10 11 12 13 14 15 16 17 18 19]\n",
      " [20 21 22 23 24 25 26 27 28 29]]\n"
     ]
    }
   ],
   "source": [
    "# 배열 분할하기\n",
    "\n",
    "arr_30 = np.arange(30).reshape(-1, 10)\n",
    "print(arr_30)"
   ]
  },
  {
   "cell_type": "code",
   "execution_count": 59,
   "metadata": {},
   "outputs": [
    {
     "name": "stdout",
     "output_type": "stream",
     "text": [
      "[[ 0  1  2]\n",
      " [10 11 12]\n",
      " [20 21 22]]\n",
      "[[ 3  4  5  6  7  8  9]\n",
      " [13 14 15 16 17 18 19]\n",
      " [23 24 25 26 27 28 29]]\n"
     ]
    }
   ],
   "source": [
    "# 컬럼의 인덱스가 3을 기준으로 분할하기\n",
    "# 분할해서 따로 저장할 수 있음.\n",
    "arr_30_01, arr_30_02 = np.split(arr_30, [3], axis=1)\n",
    "print(arr_30_01)\n",
    "print(arr_30_02)"
   ]
  },
  {
   "cell_type": "code",
   "execution_count": 61,
   "metadata": {},
   "outputs": [
    {
     "name": "stdout",
     "output_type": "stream",
     "text": [
      "[1 2 3 4 5 6]\n",
      "(6,)\n"
     ]
    }
   ],
   "source": [
    "# newaxis : 배열에 새로운 축 추가하기\n",
    "a = np.array([1, 2, 3, 4, 5, 6])\n",
    "\n",
    "print(a)\n",
    "print(a.shape) # 1차원"
   ]
  },
  {
   "cell_type": "code",
   "execution_count": 68,
   "metadata": {},
   "outputs": [
    {
     "name": "stdout",
     "output_type": "stream",
     "text": [
      "[[1 2 3 4 5 6]]\n",
      "(1, 6)\n"
     ]
    }
   ],
   "source": [
    "a1 = a[np.newaxis, :]\n",
    "print(a1)\n",
    "print(a1.shape) # 1x6 행렬 (2차원)"
   ]
  },
  {
   "cell_type": "code",
   "execution_count": 67,
   "metadata": {},
   "outputs": [
    {
     "name": "stdout",
     "output_type": "stream",
     "text": [
      "[[1]\n",
      " [2]\n",
      " [3]\n",
      " [4]\n",
      " [5]\n",
      " [6]]\n",
      "(6, 1)\n"
     ]
    }
   ],
   "source": [
    "a2 = a[:, np.newaxis]\n",
    "print(a2)\n",
    "print(a2.shape) # 6x1 행렬 (2차원)"
   ]
  },
  {
   "cell_type": "code",
   "execution_count": 70,
   "metadata": {},
   "outputs": [
    {
     "name": "stdout",
     "output_type": "stream",
     "text": [
      "[18 19 25 30 28]\n",
      "25\n",
      "[19 25]\n",
      "[18 19 25]\n"
     ]
    }
   ],
   "source": [
    "# 인덱스와 슬라이싱\n",
    "ages = np.array([18, 19, 25, 30, 28])\n",
    "print(ages)\n",
    "\n",
    "# 인덱싱\n",
    "print(ages[2])\n",
    "\n",
    "# 슬라이싱\n",
    "print(ages[1:3])\n",
    "print(ages[:-2])"
   ]
  },
  {
   "cell_type": "code",
   "execution_count": 73,
   "metadata": {},
   "outputs": [
    {
     "data": {
      "text/plain": [
       "array([25, 30, 28])"
      ]
     },
     "execution_count": 73,
     "metadata": {},
     "output_type": "execute_result"
    }
   ],
   "source": [
    "# 논리적 인덱싱\n",
    "condition = (ages > 20) # 비교 연산자\n",
    "\n",
    "# 조건이 True인 것만 뽑아줘 !\n",
    "ages[condition]"
   ]
  },
  {
   "cell_type": "code",
   "execution_count": 75,
   "metadata": {},
   "outputs": [
    {
     "name": "stdout",
     "output_type": "stream",
     "text": [
      "[[1 2 3]\n",
      " [4 5 6]\n",
      " [7 8 9]]\n",
      "[1 2 3]\n",
      "3\n",
      "3\n"
     ]
    }
   ],
   "source": [
    "# 2차원 배열 인덱싱\n",
    "a = np.array([[1, 2, 3], [4, 5, 6], [7, 8, 9]])\n",
    "print(a)\n",
    "print(a[0])\n",
    "print(a[0][2])\n",
    "print(a[0, 2])"
   ]
  },
  {
   "cell_type": "code",
   "execution_count": 76,
   "metadata": {},
   "outputs": [
    {
     "name": "stdout",
     "output_type": "stream",
     "text": [
      "[[12  2  3]\n",
      " [ 4  5  6]\n",
      " [ 7  8  9]]\n"
     ]
    }
   ],
   "source": [
    "# 값 수정 가능\n",
    "a[0, 0] = 12\n",
    "print(a)"
   ]
  },
  {
   "cell_type": "code",
   "execution_count": 78,
   "metadata": {},
   "outputs": [
    {
     "name": "stdout",
     "output_type": "stream",
     "text": [
      "[[12  2  3]\n",
      " [ 4  5  6]]\n",
      "(2, 3)\n"
     ]
    }
   ],
   "source": [
    "print(a[0:2])\n",
    "print(a[0:2].shape)"
   ]
  },
  {
   "cell_type": "code",
   "execution_count": 79,
   "metadata": {},
   "outputs": [
    {
     "name": "stdout",
     "output_type": "stream",
     "text": [
      "[[12  2  3]\n",
      " [ 4  5  6]\n",
      " [ 7  8  9]]\n",
      "[[2 3]\n",
      " [5 6]]\n"
     ]
    }
   ],
   "source": [
    "print(a)\n",
    "print(a[0:2, 1:3])"
   ]
  },
  {
   "cell_type": "markdown",
   "metadata": {},
   "source": [
    "### 실무코드"
   ]
  },
  {
   "cell_type": "code",
   "execution_count": 80,
   "metadata": {},
   "outputs": [
    {
     "data": {
      "text/plain": [
       "array([[12,  3],\n",
       "       [ 7,  9]])"
      ]
     },
     "execution_count": 80,
     "metadata": {},
     "output_type": "execute_result"
    }
   ],
   "source": [
    "a[::2, ::2]"
   ]
  },
  {
   "cell_type": "markdown",
   "metadata": {},
   "source": [
    "## Numpy 연산"
   ]
  },
  {
   "cell_type": "code",
   "execution_count": 81,
   "metadata": {},
   "outputs": [
    {
     "name": "stdout",
     "output_type": "stream",
     "text": [
      "[[1 2]\n",
      " [3 4]\n",
      " [5 6]]\n",
      "[[1 1]\n",
      " [1 1]\n",
      " [1 1]]\n"
     ]
    }
   ],
   "source": [
    "arr1 = np.array([[1, 2], [3, 4], [5, 6]])\n",
    "arr2 = np.array([[1, 1], [1, 1], [1, 1]])\n",
    "print(arr1)\n",
    "print(arr2)"
   ]
  },
  {
   "cell_type": "code",
   "execution_count": 82,
   "metadata": {},
   "outputs": [
    {
     "name": "stdout",
     "output_type": "stream",
     "text": [
      "[[2 3]\n",
      " [4 5]\n",
      " [6 7]]\n"
     ]
    }
   ],
   "source": [
    "result = arr1 + arr2\n",
    "print(result)"
   ]
  },
  {
   "cell_type": "code",
   "execution_count": 83,
   "metadata": {},
   "outputs": [
    {
     "name": "stdout",
     "output_type": "stream",
     "text": [
      "[1, 2, 3, 4, 5, 6, 7, 8]\n"
     ]
    }
   ],
   "source": [
    "# list + list\n",
    "a = [1, 2, 3, 4]\n",
    "b = [5, 6, 7, 8]\n",
    "print(a + b)"
   ]
  },
  {
   "cell_type": "code",
   "execution_count": 84,
   "metadata": {},
   "outputs": [],
   "source": [
    "a.extend(b)"
   ]
  },
  {
   "cell_type": "code",
   "execution_count": 85,
   "metadata": {},
   "outputs": [
    {
     "name": "stdout",
     "output_type": "stream",
     "text": [
      "[1, 2, 3, 4, 5, 6, 7, 8]\n"
     ]
    }
   ],
   "source": [
    "print(a)"
   ]
  },
  {
   "cell_type": "code",
   "execution_count": 86,
   "metadata": {},
   "outputs": [
    {
     "data": {
      "text/plain": [
       "array([1, 2, 3])"
      ]
     },
     "execution_count": 86,
     "metadata": {},
     "output_type": "execute_result"
    }
   ],
   "source": [
    "# 브로드 캐스팅\n",
    "\n",
    "np.array([1, 2, 3]) # (3, ) 1차원"
   ]
  },
  {
   "cell_type": "code",
   "execution_count": 88,
   "metadata": {},
   "outputs": [
    {
     "name": "stdout",
     "output_type": "stream",
     "text": [
      "[1 2 3]\n",
      "[1.6 3.2 4.8]\n",
      "10\n"
     ]
    }
   ],
   "source": [
    "miles = np.array([1, 2, 3])\n",
    "print(miles)\n",
    "print(miles * 1.6)\n",
    "print(miles[0] * 10)"
   ]
  },
  {
   "cell_type": "code",
   "execution_count": 90,
   "metadata": {},
   "outputs": [
    {
     "name": "stdout",
     "output_type": "stream",
     "text": [
      "[[1 2]\n",
      " [3 4]\n",
      " [5 6]]\n",
      "[[2 2]\n",
      " [2 2]\n",
      " [2 2]]\n",
      "[[ 2  4]\n",
      " [ 6  8]\n",
      " [10 12]]\n"
     ]
    }
   ],
   "source": [
    "# 넘파이 곱셈\n",
    "arr1 = np.array([[1, 2], [3, 4], [5, 6]])\n",
    "arr2 = np.array([[2, 2], [2, 2], [2, 2]])\n",
    "result  = arr1 * arr2\n",
    "print(arr1)\n",
    "print(arr2)\n",
    "print(result)"
   ]
  },
  {
   "cell_type": "code",
   "execution_count": 91,
   "metadata": {},
   "outputs": [
    {
     "name": "stdout",
     "output_type": "stream",
     "text": [
      "(3, 2)\n",
      "(3, 2)\n"
     ]
    }
   ],
   "source": [
    "# 내적 (dot product) : 행렬 곱\n",
    "# 입력 행렬 열 @ 출력되는 행이 같아야 한다.\n",
    "# ex) (x, 3) @ (3, y) >> (x, y)\n",
    "\n",
    "print(arr1.shape)\n",
    "print(arr2.shape)"
   ]
  },
  {
   "cell_type": "code",
   "execution_count": 94,
   "metadata": {},
   "outputs": [],
   "source": [
    "## ValueError: matmul 행렬 내적을 위한 행과 열의 크기가 맞아야 계산 가능함.\n",
    "# arr1 @ arr2"
   ]
  },
  {
   "cell_type": "code",
   "execution_count": 96,
   "metadata": {},
   "outputs": [
    {
     "name": "stdout",
     "output_type": "stream",
     "text": [
      "[[2 2 2]\n",
      " [2 2 2]]\n",
      "(2, 3)\n"
     ]
    }
   ],
   "source": [
    "# arr1와 arr2의 내적을 위해 arr2의 형태를 바꾸어 준다.\n",
    "# T (transpose) 전치 행렬\n",
    "print(arr2.T)\n",
    "print(arr2.T.shape)"
   ]
  },
  {
   "cell_type": "code",
   "execution_count": 99,
   "metadata": {},
   "outputs": [
    {
     "name": "stdout",
     "output_type": "stream",
     "text": [
      "[[ 6  6  6]\n",
      " [14 14 14]\n",
      " [22 22 22]]\n",
      "(3, 3)\n"
     ]
    }
   ],
   "source": [
    "arr3 = arr1 @ arr2.T\n",
    "print(arr3)\n",
    "print(arr3.shape)"
   ]
  },
  {
   "cell_type": "code",
   "execution_count": 100,
   "metadata": {},
   "outputs": [
    {
     "name": "stdout",
     "output_type": "stream",
     "text": [
      "[0 1 2 3]\n",
      "[0, 1, 2, 3]\n"
     ]
    }
   ],
   "source": [
    "# numpy 배열에 함수 적용하기\n",
    "\n",
    "a = np.array([0, 1, 2, 3])\n",
    "print(a)\n",
    "print([0, 1, 2, 3])"
   ]
  },
  {
   "cell_type": "code",
   "execution_count": 102,
   "metadata": {},
   "outputs": [
    {
     "data": {
      "text/plain": [
       "array([0.        , 8.41470985, 9.09297427, 1.41120008])"
      ]
     },
     "execution_count": 102,
     "metadata": {},
     "output_type": "execute_result"
    }
   ],
   "source": [
    "# sin 함수에 적용하기 >> array의 요소에 각각 접근 (Broad casting)\n",
    "10 * np.sin(a)"
   ]
  },
  {
   "cell_type": "code",
   "execution_count": 104,
   "metadata": {},
   "outputs": [
    {
     "name": "stdout",
     "output_type": "stream",
     "text": [
      "[[1 2 3]\n",
      " [4 5 6]\n",
      " [7 8 9]]\n",
      "45\n",
      "1\n",
      "9\n"
     ]
    }
   ],
   "source": [
    "# numpy array method\n",
    "\n",
    "a = np.array([[1, 2, 3], [4, 5, 6], [7, 8, 9]])\n",
    "print(a)\n",
    "\n",
    "# array의 원소끼리 더해줌.\n",
    "print(a.sum())\n",
    "\n",
    "# array의 원소 중 최솟값/최댓값 구하기\n",
    "print(a.min())\n",
    "print(a.max())"
   ]
  },
  {
   "cell_type": "code",
   "execution_count": 108,
   "metadata": {},
   "outputs": [
    {
     "name": "stdout",
     "output_type": "stream",
     "text": [
      "[368 322 315]\n",
      "[252 273 239 241]\n",
      "[92.   80.5  78.75]\n",
      "[84.         91.         79.66666667 80.33333333]\n"
     ]
    }
   ],
   "source": [
    "# 특정 행이나 열에 numpy method 적용하기\n",
    "# 학생 별 국어, 영어, 수학 점수 배열 활용\n",
    "\n",
    "# 4명의 학생의 국영수 성적\n",
    "stu_scores = np.array([[99, 93, 60], [98, 82, 93], [93, 65, 81], [78, 82, 81]])\n",
    "\n",
    "# 4명의 학생의 과목별 총점 구하기\n",
    "print(stu_scores.sum(axis=0))\n",
    "\n",
    "# 학생별 총점 구하기\n",
    "print(stu_scores.sum(axis=1))\n",
    "\n",
    "# 과목별 평균 구하기\n",
    "print(stu_scores.mean(axis=0))\n",
    "\n",
    "# 학생별 평균 구하기\n",
    "print(stu_scores.mean(axis=1))"
   ]
  },
  {
   "cell_type": "markdown",
   "metadata": {},
   "source": [
    "## 균일 분포에서 난수 생성\n",
    "* 과학적 통계방법 : random\n",
    "    * rand : 무작위하게 0 ~ 1 사이의 값에서 정한 수만큼의 값을 추출\n",
    "* 정규분포\n",
    "    * m(=mu) : 평균\n",
    "    * sigma : 편차 (평균에서 떨어진 정도)"
   ]
  },
  {
   "cell_type": "code",
   "execution_count": 111,
   "metadata": {},
   "outputs": [
    {
     "data": {
      "text/plain": [
       "array([0.89132195, 0.20920212, 0.18532822, 0.10837689, 0.21969749])"
      ]
     },
     "execution_count": 111,
     "metadata": {},
     "output_type": "execute_result"
    }
   ],
   "source": [
    "# seed 값 생성 안 하는 경우 : 값을 출력할 때마다 바뀐다.\n",
    "np.random.rand(5)"
   ]
  },
  {
   "cell_type": "code",
   "execution_count": 112,
   "metadata": {},
   "outputs": [
    {
     "data": {
      "text/plain": [
       "array([0.54340494, 0.27836939, 0.42451759, 0.84477613, 0.00471886])"
      ]
     },
     "execution_count": 112,
     "metadata": {},
     "output_type": "execute_result"
    }
   ],
   "source": [
    "# seed 값 생성 : 값이 고정된다.\n",
    "np.random.seed(100)\n",
    "np.random.rand(5)"
   ]
  },
  {
   "cell_type": "code",
   "execution_count": 113,
   "metadata": {},
   "outputs": [
    {
     "data": {
      "text/plain": [
       "array([[0.12156912, 0.67074908, 0.82585276],\n",
       "       [0.13670659, 0.57509333, 0.89132195],\n",
       "       [0.20920212, 0.18532822, 0.10837689],\n",
       "       [0.21969749, 0.97862378, 0.81168315],\n",
       "       [0.17194101, 0.81622475, 0.27407375]])"
      ]
     },
     "execution_count": 113,
     "metadata": {},
     "output_type": "execute_result"
    }
   ],
   "source": [
    "# (행, 열)\n",
    "np.random.rand(5, 3)"
   ]
  },
  {
   "cell_type": "code",
   "execution_count": 116,
   "metadata": {},
   "outputs": [
    {
     "data": {
      "text/plain": [
       "array([-1.23243451, -0.54443916, -0.66817174,  0.00731456, -0.61293874])"
      ]
     },
     "execution_count": 116,
     "metadata": {},
     "output_type": "execute_result"
    }
   ],
   "source": [
    "# 표준정규분포 (normal distribution) 난수 생성\n",
    "# 평균 0, 표준편차 1인 정규분포를 바탕으로 생성\n",
    "# >> 음수 값이 나온다.\n",
    "np.random.randn(5)"
   ]
  },
  {
   "cell_type": "code",
   "execution_count": 115,
   "metadata": {},
   "outputs": [
    {
     "data": {
      "text/plain": [
       "array([[-1.11831825,  1.61898166,  1.54160517, -0.25187914],\n",
       "       [-0.84243574,  0.18451869,  0.9370822 ,  0.73100034],\n",
       "       [ 1.36155613, -0.32623806,  0.05567601,  0.22239961],\n",
       "       [-1.443217  , -0.75635231,  0.81645401,  0.75044476],\n",
       "       [-0.45594693,  1.18962227, -1.69061683, -1.35639905]])"
      ]
     },
     "execution_count": 115,
     "metadata": {},
     "output_type": "execute_result"
    }
   ],
   "source": [
    "# (행, 열)\n",
    "np.random.randn(5, 4)"
   ]
  },
  {
   "cell_type": "code",
   "execution_count": 117,
   "metadata": {},
   "outputs": [
    {
     "name": "stdout",
     "output_type": "stream",
     "text": [
      "[ 0.12997481 -0.17330956 -0.09833101  0.03575078 -0.16135785]\n",
      "[ 0.14707139 -0.11880176 -0.05497462 -0.09400462 -0.08279324]\n"
     ]
    }
   ],
   "source": [
    "# 표준정규분포\n",
    "\n",
    "mu, sigma = 0, 0.1\n",
    "print(mu + sigma * np.random.randn(5))\n",
    "print(np.random.normal(mu, sigma, 5))"
   ]
  },
  {
   "cell_type": "code",
   "execution_count": 119,
   "metadata": {},
   "outputs": [
    {
     "name": "stdout",
     "output_type": "stream",
     "text": [
      "[11 12 23 56 32 15 11 72 14]\n",
      "[11 12 14 15 23 32 56 72]\n",
      "8\n"
     ]
    }
   ],
   "source": [
    "# 고유항목 및 개수를 얻는 방법\n",
    "a = np.array([11, 12, 23, 56, 32, 15, 11, 72, 14])\n",
    "print(a)\n",
    "\n",
    "# 중복제거 + 오름차순 정렬\n",
    "print(np.unique(a))\n",
    "print(len(np.unique(a)))"
   ]
  },
  {
   "cell_type": "code",
   "execution_count": 3,
   "metadata": {},
   "outputs": [],
   "source": [
    "import pandas as pd\n",
    "import numpy as np"
   ]
  },
  {
   "cell_type": "code",
   "execution_count": 125,
   "metadata": {},
   "outputs": [
    {
     "name": "stdout",
     "output_type": "stream",
     "text": [
      "    name\n",
      "0   Naju\n",
      "1  Yeosu\n",
      "2  Jinju\n",
      "0     Naju\n",
      "1    Yeosu\n",
      "2    Jinju\n",
      "Name: name, dtype: object\n",
      "object\n"
     ]
    }
   ],
   "source": [
    "# 데이터프레임 만들기\n",
    "data = {'name' : ['Naju', 'Yeosu', 'Jinju']}\n",
    "df = pd.DataFrame(data)\n",
    "\n",
    "print(df) # DataFrame\n",
    "print(df['name']) # Series\n",
    "print(df['name'].dtype)"
   ]
  },
  {
   "cell_type": "code",
   "execution_count": 132,
   "metadata": {},
   "outputs": [
    {
     "name": "stdout",
     "output_type": "stream",
     "text": [
      "     name\n",
      "0   Ulsan\n",
      "1   Daegu\n",
      "2   Busan\n",
      "3  Sangju\n",
      "4   Daegu\n",
      "5   Busan\n",
      "6  Sangju\n",
      "['Busan' 'Daegu' 'Sangju' 'Ulsan']\n"
     ]
    }
   ],
   "source": [
    "data = {'name' : ['Ulsan', 'Daegu', 'Busan', 'Sangju', 'Daegu', 'Busan', 'Sangju']}\n",
    "df = pd.DataFrame(data)\n",
    "\n",
    "print(df)\n",
    "print(np.unique(df))"
   ]
  },
  {
   "cell_type": "markdown",
   "metadata": {},
   "source": [
    "## 전치 행렬 (행과 열을 바꾸어줌)"
   ]
  },
  {
   "cell_type": "code",
   "execution_count": 127,
   "metadata": {},
   "outputs": [
    {
     "name": "stdout",
     "output_type": "stream",
     "text": [
      "[[1 2]\n",
      " [3 4]\n",
      " [5 6]\n",
      " [7 8]]\n",
      "[[1 3 5 7]\n",
      " [2 4 6 8]]\n"
     ]
    }
   ],
   "source": [
    "arr = np.array([[1, 2], [3, 4], [5, 6], [7, 8]])\n",
    "print(arr)\n",
    "print(arr.T)"
   ]
  },
  {
   "cell_type": "markdown",
   "metadata": {},
   "source": [
    "## 다차원 배열의 평탄화"
   ]
  },
  {
   "cell_type": "code",
   "execution_count": 129,
   "metadata": {},
   "outputs": [
    {
     "name": "stdout",
     "output_type": "stream",
     "text": [
      "[[1 2]\n",
      " [3 4]\n",
      " [5 6]\n",
      " [7 8]]\n",
      "[1 2 3 4 5 6 7 8]\n"
     ]
    }
   ],
   "source": [
    "print(arr)\n",
    "print(arr.flatten())"
   ]
  },
  {
   "cell_type": "code",
   "execution_count": 133,
   "metadata": {},
   "outputs": [
    {
     "name": "stdout",
     "output_type": "stream",
     "text": [
      "(4, 2)\n",
      "(8,)\n"
     ]
    }
   ],
   "source": [
    "print(arr.shape) # 2차원\n",
    "print(arr.flatten().shape) # 1차원"
   ]
  },
  {
   "cell_type": "markdown",
   "metadata": {},
   "source": [
    "## Numpy 활용, csv 파일 읽기"
   ]
  },
  {
   "cell_type": "code",
   "execution_count": 5,
   "metadata": {},
   "outputs": [
    {
     "data": {
      "text/html": [
       "<div>\n",
       "<style scoped>\n",
       "    .dataframe tbody tr th:only-of-type {\n",
       "        vertical-align: middle;\n",
       "    }\n",
       "\n",
       "    .dataframe tbody tr th {\n",
       "        vertical-align: top;\n",
       "    }\n",
       "\n",
       "    .dataframe thead th {\n",
       "        text-align: right;\n",
       "    }\n",
       "</style>\n",
       "<table border=\"1\" class=\"dataframe\">\n",
       "  <thead>\n",
       "    <tr style=\"text-align: right;\">\n",
       "      <th></th>\n",
       "      <th>'KR'</th>\n",
       "      <th>'Korea'</th>\n",
       "      <th>98480</th>\n",
       "      <th>'Seoul'</th>\n",
       "      <th>48422644</th>\n",
       "    </tr>\n",
       "  </thead>\n",
       "  <tbody>\n",
       "    <tr>\n",
       "      <th>0</th>\n",
       "      <td>'US'</td>\n",
       "      <td>'USA'</td>\n",
       "      <td>9629091</td>\n",
       "      <td>'Washington'</td>\n",
       "      <td>310232863</td>\n",
       "    </tr>\n",
       "    <tr>\n",
       "      <th>1</th>\n",
       "      <td>'JP'</td>\n",
       "      <td>'Japan'</td>\n",
       "      <td>377835</td>\n",
       "      <td>'Tokyo'</td>\n",
       "      <td>127288000</td>\n",
       "    </tr>\n",
       "    <tr>\n",
       "      <th>2</th>\n",
       "      <td>'CN'</td>\n",
       "      <td>'China'</td>\n",
       "      <td>9596960</td>\n",
       "      <td>'Beijing'</td>\n",
       "      <td>1330044000</td>\n",
       "    </tr>\n",
       "    <tr>\n",
       "      <th>3</th>\n",
       "      <td>'RU'</td>\n",
       "      <td>'Russia'</td>\n",
       "      <td>17100000</td>\n",
       "      <td>'Moscow'</td>\n",
       "      <td>140702000</td>\n",
       "    </tr>\n",
       "  </tbody>\n",
       "</table>\n",
       "</div>"
      ],
      "text/plain": [
       "   'KR'    'Korea'     98480        'Seoul'    48422644\n",
       "0  'US'      'USA'   9629091   'Washington'   310232863\n",
       "1  'JP'    'Japan'    377835        'Tokyo'   127288000\n",
       "2  'CN'    'China'   9596960      'Beijing'  1330044000\n",
       "3  'RU'   'Russia'  17100000       'Moscow'   140702000"
      ]
     },
     "execution_count": 5,
     "metadata": {},
     "output_type": "execute_result"
    }
   ],
   "source": [
    "# countries_data.csv 활용\n",
    "path = '../datasets/countries_data.csv'\n",
    "pd.read_csv(path)"
   ]
  },
  {
   "cell_type": "code",
   "execution_count": 6,
   "metadata": {},
   "outputs": [
    {
     "data": {
      "text/html": [
       "<div>\n",
       "<style scoped>\n",
       "    .dataframe tbody tr th:only-of-type {\n",
       "        vertical-align: middle;\n",
       "    }\n",
       "\n",
       "    .dataframe tbody tr th {\n",
       "        vertical-align: top;\n",
       "    }\n",
       "\n",
       "    .dataframe thead th {\n",
       "        text-align: right;\n",
       "    }\n",
       "</style>\n",
       "<table border=\"1\" class=\"dataframe\">\n",
       "  <thead>\n",
       "    <tr style=\"text-align: right;\">\n",
       "      <th></th>\n",
       "      <th>'KR'</th>\n",
       "      <th>'Korea'</th>\n",
       "      <th>98480</th>\n",
       "      <th>'Seoul'</th>\n",
       "      <th>48422644</th>\n",
       "    </tr>\n",
       "  </thead>\n",
       "  <tbody>\n",
       "    <tr>\n",
       "      <th>0</th>\n",
       "      <td>'US'</td>\n",
       "      <td>'USA'</td>\n",
       "      <td>9629091</td>\n",
       "      <td>'Washington'</td>\n",
       "      <td>310232863</td>\n",
       "    </tr>\n",
       "    <tr>\n",
       "      <th>1</th>\n",
       "      <td>'JP'</td>\n",
       "      <td>'Japan'</td>\n",
       "      <td>377835</td>\n",
       "      <td>'Tokyo'</td>\n",
       "      <td>127288000</td>\n",
       "    </tr>\n",
       "    <tr>\n",
       "      <th>2</th>\n",
       "      <td>'CN'</td>\n",
       "      <td>'China'</td>\n",
       "      <td>9596960</td>\n",
       "      <td>'Beijing'</td>\n",
       "      <td>1330044000</td>\n",
       "    </tr>\n",
       "    <tr>\n",
       "      <th>3</th>\n",
       "      <td>'RU'</td>\n",
       "      <td>'Russia'</td>\n",
       "      <td>17100000</td>\n",
       "      <td>'Moscow'</td>\n",
       "      <td>140702000</td>\n",
       "    </tr>\n",
       "  </tbody>\n",
       "</table>\n",
       "</div>"
      ],
      "text/plain": [
       "   'KR'    'Korea'     98480        'Seoul'    48422644\n",
       "0  'US'      'USA'   9629091   'Washington'   310232863\n",
       "1  'JP'    'Japan'    377835        'Tokyo'   127288000\n",
       "2  'CN'    'China'   9596960      'Beijing'  1330044000\n",
       "3  'RU'   'Russia'  17100000       'Moscow'   140702000"
      ]
     },
     "execution_count": 6,
     "metadata": {},
     "output_type": "execute_result"
    }
   ],
   "source": [
    "pd.read_csv(path, header=0)"
   ]
  },
  {
   "cell_type": "code",
   "execution_count": 7,
   "metadata": {},
   "outputs": [
    {
     "data": {
      "text/html": [
       "<div>\n",
       "<style scoped>\n",
       "    .dataframe tbody tr th:only-of-type {\n",
       "        vertical-align: middle;\n",
       "    }\n",
       "\n",
       "    .dataframe tbody tr th {\n",
       "        vertical-align: top;\n",
       "    }\n",
       "\n",
       "    .dataframe thead th {\n",
       "        text-align: right;\n",
       "    }\n",
       "</style>\n",
       "<table border=\"1\" class=\"dataframe\">\n",
       "  <thead>\n",
       "    <tr style=\"text-align: right;\">\n",
       "      <th></th>\n",
       "      <th>nation_domain</th>\n",
       "      <th>Nation</th>\n",
       "      <th>zip_code</th>\n",
       "      <th>capital</th>\n",
       "      <th>code</th>\n",
       "    </tr>\n",
       "  </thead>\n",
       "  <tbody>\n",
       "    <tr>\n",
       "      <th>0</th>\n",
       "      <td>'KR'</td>\n",
       "      <td>'Korea'</td>\n",
       "      <td>98480</td>\n",
       "      <td>'Seoul'</td>\n",
       "      <td>48422644</td>\n",
       "    </tr>\n",
       "    <tr>\n",
       "      <th>1</th>\n",
       "      <td>'US'</td>\n",
       "      <td>'USA'</td>\n",
       "      <td>9629091</td>\n",
       "      <td>'Washington'</td>\n",
       "      <td>310232863</td>\n",
       "    </tr>\n",
       "    <tr>\n",
       "      <th>2</th>\n",
       "      <td>'JP'</td>\n",
       "      <td>'Japan'</td>\n",
       "      <td>377835</td>\n",
       "      <td>'Tokyo'</td>\n",
       "      <td>127288000</td>\n",
       "    </tr>\n",
       "    <tr>\n",
       "      <th>3</th>\n",
       "      <td>'CN'</td>\n",
       "      <td>'China'</td>\n",
       "      <td>9596960</td>\n",
       "      <td>'Beijing'</td>\n",
       "      <td>1330044000</td>\n",
       "    </tr>\n",
       "    <tr>\n",
       "      <th>4</th>\n",
       "      <td>'RU'</td>\n",
       "      <td>'Russia'</td>\n",
       "      <td>17100000</td>\n",
       "      <td>'Moscow'</td>\n",
       "      <td>140702000</td>\n",
       "    </tr>\n",
       "  </tbody>\n",
       "</table>\n",
       "</div>"
      ],
      "text/plain": [
       "  nation_domain     Nation  zip_code        capital        code\n",
       "0          'KR'    'Korea'     98480        'Seoul'    48422644\n",
       "1          'US'      'USA'   9629091   'Washington'   310232863\n",
       "2          'JP'    'Japan'    377835        'Tokyo'   127288000\n",
       "3          'CN'    'China'   9596960      'Beijing'  1330044000\n",
       "4          'RU'   'Russia'  17100000       'Moscow'   140702000"
      ]
     },
     "execution_count": 7,
     "metadata": {},
     "output_type": "execute_result"
    }
   ],
   "source": [
    "# names = [] : 컬럼명 넣기\n",
    "raw1 = pd.read_csv(path, header=None,\n",
    "                  names=['nation_domain', 'Nation', 'zip_code', 'capital', 'code']) # header=None : 첫 번째 행부터 data로 인식하고 싶을 때 사용\n",
    "# cf. header=0 : index의 0을 컬럼의 이름으로 사용함.\n",
    "df1 = raw1.copy()\n",
    "df1.head()"
   ]
  },
  {
   "cell_type": "code",
   "execution_count": 8,
   "metadata": {},
   "outputs": [
    {
     "data": {
      "text/html": [
       "<div>\n",
       "<style scoped>\n",
       "    .dataframe tbody tr th:only-of-type {\n",
       "        vertical-align: middle;\n",
       "    }\n",
       "\n",
       "    .dataframe tbody tr th {\n",
       "        vertical-align: top;\n",
       "    }\n",
       "\n",
       "    .dataframe thead th {\n",
       "        text-align: right;\n",
       "    }\n",
       "</style>\n",
       "<table border=\"1\" class=\"dataframe\">\n",
       "  <thead>\n",
       "    <tr style=\"text-align: right;\">\n",
       "      <th></th>\n",
       "      <th>0</th>\n",
       "      <th>1</th>\n",
       "      <th>2</th>\n",
       "      <th>3</th>\n",
       "      <th>4</th>\n",
       "    </tr>\n",
       "  </thead>\n",
       "  <tbody>\n",
       "    <tr>\n",
       "      <th>0</th>\n",
       "      <td>'KR'</td>\n",
       "      <td>'Korea'</td>\n",
       "      <td>98480</td>\n",
       "      <td>'Seoul'</td>\n",
       "      <td>48422644</td>\n",
       "    </tr>\n",
       "    <tr>\n",
       "      <th>1</th>\n",
       "      <td>'US'</td>\n",
       "      <td>'USA'</td>\n",
       "      <td>9629091</td>\n",
       "      <td>'Washington'</td>\n",
       "      <td>310232863</td>\n",
       "    </tr>\n",
       "    <tr>\n",
       "      <th>2</th>\n",
       "      <td>'JP'</td>\n",
       "      <td>'Japan'</td>\n",
       "      <td>377835</td>\n",
       "      <td>'Tokyo'</td>\n",
       "      <td>127288000</td>\n",
       "    </tr>\n",
       "    <tr>\n",
       "      <th>3</th>\n",
       "      <td>'CN'</td>\n",
       "      <td>'China'</td>\n",
       "      <td>9596960</td>\n",
       "      <td>'Beijing'</td>\n",
       "      <td>1330044000</td>\n",
       "    </tr>\n",
       "    <tr>\n",
       "      <th>4</th>\n",
       "      <td>'RU'</td>\n",
       "      <td>'Russia'</td>\n",
       "      <td>17100000</td>\n",
       "      <td>'Moscow'</td>\n",
       "      <td>140702000</td>\n",
       "    </tr>\n",
       "  </tbody>\n",
       "</table>\n",
       "</div>"
      ],
      "text/plain": [
       "      0          1         2              3           4\n",
       "0  'KR'    'Korea'     98480        'Seoul'    48422644\n",
       "1  'US'      'USA'   9629091   'Washington'   310232863\n",
       "2  'JP'    'Japan'    377835        'Tokyo'   127288000\n",
       "3  'CN'    'China'   9596960      'Beijing'  1330044000\n",
       "4  'RU'   'Russia'  17100000       'Moscow'   140702000"
      ]
     },
     "execution_count": 8,
     "metadata": {},
     "output_type": "execute_result"
    }
   ],
   "source": [
    "df = pd.read_csv(path, header=None)\n",
    "df"
   ]
  },
  {
   "cell_type": "code",
   "execution_count": 10,
   "metadata": {},
   "outputs": [
    {
     "data": {
      "text/html": [
       "<div>\n",
       "<style scoped>\n",
       "    .dataframe tbody tr th:only-of-type {\n",
       "        vertical-align: middle;\n",
       "    }\n",
       "\n",
       "    .dataframe tbody tr th {\n",
       "        vertical-align: top;\n",
       "    }\n",
       "\n",
       "    .dataframe thead th {\n",
       "        text-align: right;\n",
       "    }\n",
       "</style>\n",
       "<table border=\"1\" class=\"dataframe\">\n",
       "  <thead>\n",
       "    <tr style=\"text-align: right;\">\n",
       "      <th></th>\n",
       "      <th>nation_domain</th>\n",
       "      <th>Nation</th>\n",
       "      <th>zip_code</th>\n",
       "      <th>capital</th>\n",
       "      <th>code</th>\n",
       "    </tr>\n",
       "  </thead>\n",
       "  <tbody>\n",
       "    <tr>\n",
       "      <th>0</th>\n",
       "      <td>'KR'</td>\n",
       "      <td>'Korea'</td>\n",
       "      <td>98480</td>\n",
       "      <td>'Seoul'</td>\n",
       "      <td>48422644</td>\n",
       "    </tr>\n",
       "    <tr>\n",
       "      <th>1</th>\n",
       "      <td>'US'</td>\n",
       "      <td>'USA'</td>\n",
       "      <td>9629091</td>\n",
       "      <td>'Washington'</td>\n",
       "      <td>310232863</td>\n",
       "    </tr>\n",
       "    <tr>\n",
       "      <th>2</th>\n",
       "      <td>'JP'</td>\n",
       "      <td>'Japan'</td>\n",
       "      <td>377835</td>\n",
       "      <td>'Tokyo'</td>\n",
       "      <td>127288000</td>\n",
       "    </tr>\n",
       "    <tr>\n",
       "      <th>3</th>\n",
       "      <td>'CN'</td>\n",
       "      <td>'China'</td>\n",
       "      <td>9596960</td>\n",
       "      <td>'Beijing'</td>\n",
       "      <td>1330044000</td>\n",
       "    </tr>\n",
       "    <tr>\n",
       "      <th>4</th>\n",
       "      <td>'RU'</td>\n",
       "      <td>'Russia'</td>\n",
       "      <td>17100000</td>\n",
       "      <td>'Moscow'</td>\n",
       "      <td>140702000</td>\n",
       "    </tr>\n",
       "  </tbody>\n",
       "</table>\n",
       "</div>"
      ],
      "text/plain": [
       "  nation_domain     Nation  zip_code        capital        code\n",
       "0          'KR'    'Korea'     98480        'Seoul'    48422644\n",
       "1          'US'      'USA'   9629091   'Washington'   310232863\n",
       "2          'JP'    'Japan'    377835        'Tokyo'   127288000\n",
       "3          'CN'    'China'   9596960      'Beijing'  1330044000\n",
       "4          'RU'   'Russia'  17100000       'Moscow'   140702000"
      ]
     },
     "execution_count": 10,
     "metadata": {},
     "output_type": "execute_result"
    }
   ],
   "source": [
    "# 컬럼명 넣기 : dict 이용하는 방법\n",
    "new_columns = {0 : 'nation_domain', 1 : 'Nation', 2 : 'zip_code', 3 : 'capital', 4 : 'code'}\n",
    "\n",
    "df.rename(columns=new_columns, inplace=True)\n",
    "df"
   ]
  },
  {
   "cell_type": "code",
   "execution_count": 142,
   "metadata": {},
   "outputs": [
    {
     "data": {
      "text/html": [
       "<div>\n",
       "<style scoped>\n",
       "    .dataframe tbody tr th:only-of-type {\n",
       "        vertical-align: middle;\n",
       "    }\n",
       "\n",
       "    .dataframe tbody tr th {\n",
       "        vertical-align: top;\n",
       "    }\n",
       "\n",
       "    .dataframe thead th {\n",
       "        text-align: right;\n",
       "    }\n",
       "</style>\n",
       "<table border=\"1\" class=\"dataframe\">\n",
       "  <thead>\n",
       "    <tr style=\"text-align: right;\">\n",
       "      <th></th>\n",
       "      <th>'nation_domain'</th>\n",
       "      <th>'Nation'</th>\n",
       "      <th>'zip_code'</th>\n",
       "      <th>'capital'</th>\n",
       "      <th>'code'</th>\n",
       "    </tr>\n",
       "  </thead>\n",
       "  <tbody>\n",
       "    <tr>\n",
       "      <th>0</th>\n",
       "      <td>'KR'</td>\n",
       "      <td>'Korea'</td>\n",
       "      <td>98480</td>\n",
       "      <td>'Seoul'</td>\n",
       "      <td>48422644</td>\n",
       "    </tr>\n",
       "    <tr>\n",
       "      <th>1</th>\n",
       "      <td>'US'</td>\n",
       "      <td>'USA'</td>\n",
       "      <td>9629091</td>\n",
       "      <td>'Washington'</td>\n",
       "      <td>310232863</td>\n",
       "    </tr>\n",
       "    <tr>\n",
       "      <th>2</th>\n",
       "      <td>'JP'</td>\n",
       "      <td>'Japan'</td>\n",
       "      <td>377835</td>\n",
       "      <td>'Tokyo'</td>\n",
       "      <td>127288000</td>\n",
       "    </tr>\n",
       "    <tr>\n",
       "      <th>3</th>\n",
       "      <td>'CN'</td>\n",
       "      <td>'China'</td>\n",
       "      <td>9596960</td>\n",
       "      <td>'Beijing'</td>\n",
       "      <td>1330044000</td>\n",
       "    </tr>\n",
       "    <tr>\n",
       "      <th>4</th>\n",
       "      <td>'RU'</td>\n",
       "      <td>'Russia'</td>\n",
       "      <td>17100000</td>\n",
       "      <td>'Moscow'</td>\n",
       "      <td>140702000</td>\n",
       "    </tr>\n",
       "  </tbody>\n",
       "</table>\n",
       "</div>"
      ],
      "text/plain": [
       "  'nation_domain'   'Nation'   'zip_code'      'capital'      'code'\n",
       "0            'KR'    'Korea'        98480        'Seoul'    48422644\n",
       "1            'US'      'USA'      9629091   'Washington'   310232863\n",
       "2            'JP'    'Japan'       377835        'Tokyo'   127288000\n",
       "3            'CN'    'China'      9596960      'Beijing'  1330044000\n",
       "4            'RU'   'Russia'     17100000       'Moscow'   140702000"
      ]
     },
     "execution_count": 142,
     "metadata": {},
     "output_type": "execute_result"
    }
   ],
   "source": [
    "path = '../datasets/countries_header.csv'\n",
    "pd.read_csv(path)"
   ]
  },
  {
   "cell_type": "code",
   "execution_count": 11,
   "metadata": {},
   "outputs": [],
   "source": [
    "import matplotlib.pyplot as plt\n",
    "import pandas as pd\n",
    "import numpy as np"
   ]
  },
  {
   "cell_type": "code",
   "execution_count": 19,
   "metadata": {},
   "outputs": [
    {
     "data": {
      "image/png": "[encoded data removed]",
      "text/plain": [
       "<Figure size 900x400 with 2 Axes>"
      ]
     },
     "metadata": {},
     "output_type": "display_data"
    }
   ],
   "source": [
    "# 1행 2열으로 그래프 그릴 것\n",
    "# 그래프 사이즈 : figsize\n",
    "fig, axs = plt.subplots(nrows=1, ncols=2, figsize=(9, 4))\n",
    "\n",
    "np.random.seed(100)\n",
    "all_data = [np.random.normal(0, std, 100) for std in range(6, 10)]\n",
    "\n",
    "# violinplot 이용\n",
    "# violinplot은 평균, 중양값 둘 다 볼 수 있다. 선택해서 볼 수 있음.\n",
    "axs[0].violinplot(all_data,\n",
    "                  showmeans = False, showmedians = True)\n",
    "# 그래프 제목 설정\n",
    "axs[0].set_title('Violin plot')\n",
    "\n",
    "# boxplot 이용\n",
    "# boxplot은 원래 중앙값을 보여준다.\n",
    "axs[1].boxplot(all_data)\n",
    "# 그래프 제목 설정\n",
    "axs[1].set_title('Box plot')\n",
    "\n",
    "for ax in axs:\n",
    "    # y축 그리드 설정\n",
    "    ax.yaxis.grid(True)\n",
    "    # x축 눈금 이름 변경 (x축 = 0)\n",
    "    ax.set_xticks([y+1 for y in range(len(all_data))],\n",
    "                  labels=['std6', 'std7', 'std8', 'std9'])\n",
    "    # x축 이름 설정\n",
    "    ax.set_xlabel('Four separated samples')\n",
    "    # y축 이름 설정\n",
    "    ax.set_ylabel('observed values')\n",
    "    \n",
    "# 그래프 보여주기\n",
    "plt.show()"
   ]
  },
  {
   "cell_type": "code",
   "execution_count": 18,
   "metadata": {},
   "outputs": [
    {
     "name": "stdout",
     "output_type": "stream",
     "text": [
      "4\n"
     ]
    },
    {
     "data": {
      "text/plain": [
       "[array([-10.49859284,   2.05608242,   6.91821482,  -1.51461622,\n",
       "          5.88792472,   3.08531305,   1.32707802,  -6.42025998,\n",
       "         -1.13697498,   1.53000867,  -2.74816191,   2.61098093,\n",
       "         -3.5015703 ,   4.90108243,   4.03632483,  -0.62646686,\n",
       "         -3.18768226,   6.17839611,  -2.62881374,  -6.70990948,\n",
       "          9.71388996,   9.24963105,  -1.51127484,  -5.05461443,\n",
       "          1.10711214,   5.62249321,   4.38600206,   8.16933675,\n",
       "         -1.95742836,   0.33405609,   1.33439765,  -8.65930197,\n",
       "         -4.53811383,   4.89872407,   4.50266857,  -2.73568156,\n",
       "          7.13773361, -10.14370096,  -8.13839429,  -7.39460708,\n",
       "         -3.26663497,  -4.00903042,   0.04388738,  -3.67763241,\n",
       "          7.79848845, -10.39857374,  -5.89986059,   2.14504652,\n",
       "         -9.68147102,   8.8242832 ,  -7.12810558,  -3.29847716,\n",
       "         -5.64027697,  -4.96759419,   0.65318081,   3.04685754,\n",
       "         -5.17336408,   7.49681846,  -0.47766748,  -5.33838889,\n",
       "         -5.29079034,   0.1118337 ,   1.42706773,   0.08129129,\n",
       "         -9.8131764 ,  -6.26525927,   3.67823329,   4.41723128,\n",
       "          6.16152864,  -8.59314367, -11.0471298 ,   2.19655936,\n",
       "         -1.99066281,  -4.13530787,  12.20764537,  -3.30428647,\n",
       "          4.50271998,  -7.84195403,   3.48344001,  -6.62713856,\n",
       "          4.14072882,   4.1213404 ,  -9.40012518,   5.42984473,\n",
       "          4.6729344 ,   2.56939722,   0.65323194,   0.16970181,\n",
       "         -3.47295495,  -7.1967072 , -10.23571203,   2.21498374,\n",
       "         11.25944056,  -2.2614201 ,  10.99161649,   0.0181046 ,\n",
       "         -0.45614079,   0.02374556,  -1.11008467, -14.92290921]),\n",
       " array([-11.93255844,  -7.95382705, -20.81320832,   0.23322095,\n",
       "         -1.74222067,  -3.15123505,   0.92699461,   0.1554975 ,\n",
       "          2.22157583,  -5.26689924,  -9.07474265,   0.6659761 ,\n",
       "         -2.9660057 ,  -8.30188495,  -2.55823395,  -8.89716129,\n",
       "         11.10319657,   4.85373461, -13.70656864,  -0.94360918,\n",
       "        -10.78431217,  14.32699778,  -9.77899541,  -7.68020389,\n",
       "         -1.67099009, -10.00346829,   6.64303344,  -0.1357831 ,\n",
       "          6.26218394,   5.31785184, -10.48404267,  -8.35720184,\n",
       "          9.0738381 ,   6.66592938,  -8.52077891,  -1.10085617,\n",
       "        -10.55309612,   0.75518892,   5.22938959,   3.00773505,\n",
       "         -9.90530045,  -4.48531946,   5.45738413,  -3.06684641,\n",
       "         14.52355218,  -2.40308378,  -4.3164056 ,   5.34228552,\n",
       "          1.35042034,  -2.43921251,  16.09057758,  -1.15646687,\n",
       "          3.26409558,   1.88991067,  -2.23881733,  -8.0341912 ,\n",
       "         11.92536792,  -5.05505539,   7.65580655,  -1.60662427,\n",
       "         -0.06229064,  -3.80238606,   5.27143531, -11.26607227,\n",
       "         13.60283584, -10.13205279,   0.91173919,   6.64552605,\n",
       "        -14.10632102,  -0.55678411,   2.10734625, -11.79429973,\n",
       "          1.55673567,  -4.79445215,  -0.88340829,  13.93191555,\n",
       "          3.66098463,  -0.11441782,  -2.91071435,  -9.50952056,\n",
       "         -3.60100924,  -1.51242084,   2.95666154,  -7.65830052,\n",
       "          8.6583552 ,  -1.61199275,  -4.9309274 ,  -4.13962585,\n",
       "          5.15896618,   3.05107077,  12.4319551 ,   3.59152065,\n",
       "          8.19368888,  14.54398563,  -3.19145413,   4.54421049,\n",
       "         -1.22347088,   7.1208504 ,  -4.19988131,  11.03316707]),\n",
       " array([  4.83538831,  -7.25624334,   4.73618615,  -3.49651533,\n",
       "          0.81420618,  10.46677461,  11.10081449, -13.88312918,\n",
       "          2.30701936,  -2.71268347,   4.21895306,  -2.99442307,\n",
       "          3.81673838, -11.4381013 ,   3.2616522 ,  -6.62624314,\n",
       "          3.38765825,  -1.27613892,   9.9286567 ,  13.30829049,\n",
       "         -5.29550172,  27.72181719,   3.13150895,   2.61796282,\n",
       "         -2.49077648, -11.39724471,  -4.99897748,  -0.87996317,\n",
       "          7.62367542,  -7.86690115,  -8.75645752,  -1.93079   ,\n",
       "         -4.76091071,  -7.86249516,   0.70583948,  -4.82207496,\n",
       "          9.00444362,   7.41642639, -18.15325596,  -2.7853651 ,\n",
       "         -1.31220322,   9.73264472,  -5.01483124,  -2.19951846,\n",
       "          9.17965951,   9.27975179,   5.61747604, -10.27123848,\n",
       "         12.17846214,  -1.43970654,  -3.00917894,   3.68279369,\n",
       "         11.64337169,   1.9320551 ,  -0.30133336,   6.65226424,\n",
       "         18.39495575,  -7.51681954,   0.89458063,  20.31545626,\n",
       "          3.22878732, -15.0786751 ,  10.21961625,  -3.56470611,\n",
       "        -10.16254431,   5.08400935,  -2.38748537,  -3.21831937,\n",
       "         -4.29312341,   6.58499521,   0.20153523,  12.14028903,\n",
       "          2.95688921,  -3.8450573 ,   8.33866194,   8.79100789,\n",
       "        -17.06328299,   6.07363465,  -2.28144696,   3.84329129,\n",
       "          3.74400551,  21.67201558,  16.15268893,   5.97922735,\n",
       "         -4.71766869,  -6.5073986 ,  -1.41517491,   4.05638002,\n",
       "         -2.13422531,  -6.84849618,  12.47451886,  -8.74151092,\n",
       "          6.06433999,  -9.59551976,   1.41096383,  -7.00584673,\n",
       "          0.94086765,  -7.66534668, -15.04891719,   1.45874182]),\n",
       " array([ -4.93643052,  -0.47371473,  28.56051472,  30.00783166,\n",
       "         14.43034797,   9.11606608,  16.60070886,  -3.02529266,\n",
       "          4.4887544 ,  -9.70043469,   5.19240654,   0.77872364,\n",
       "          3.45409964,  12.01257682,  15.0461207 ,  -2.81706958,\n",
       "          1.11197366,  13.92956193,  -0.97100259,   9.03057801,\n",
       "          7.98904603,   0.79784812, -11.92120286,   2.14546181,\n",
       "         10.76995314,  -4.18358313, -10.2300544 ,   2.23645162,\n",
       "          3.15623533,  -1.18869043,  -4.73080675,  -5.26400399,\n",
       "         -8.36322478,   3.58574778, -12.2031707 , -15.40424748,\n",
       "          1.42738737,  19.19238056,  24.49200249, -17.75577643,\n",
       "          4.85831627,   4.88855862,   8.67370078,  11.28353521,\n",
       "         -1.98117507,  -2.27043036,   0.09033425,   4.32259544,\n",
       "        -17.61270797,  -5.08036192, -10.4691224 ,  -0.19058197,\n",
       "          2.97964514,  -3.29846625,   7.74427866,  -2.2193757 ,\n",
       "         13.41479788,  -3.59452239,   2.92685663,  -5.88852768,\n",
       "         -0.17210476,   8.93647484,  -1.16636903,  -1.53747367,\n",
       "          7.11385281,   9.82634316,  -3.64574938,   4.82799543,\n",
       "        -19.18183194,   2.3676902 , -11.43952187,   8.36190102,\n",
       "        -17.38271571,   0.21793807, -10.92322385,   1.69323261,\n",
       "         -5.15037509,  24.70606168,   1.12458581,  -9.58721539,\n",
       "          5.42748328,  -9.55320873, -13.64787446,   2.96354255,\n",
       "        -17.85258849,   1.50423105,  -1.610046  ,  10.60415243,\n",
       "         -3.99067187,   6.65058511,  -1.39363609,  -0.77450079,\n",
       "         -3.02181155,  -1.22966441,   0.83498782,   1.70746913,\n",
       "        -18.4380473 ,   7.0540747 ,  -2.09686105, -10.65970285])]"
      ]
     },
     "execution_count": 18,
     "metadata": {},
     "output_type": "execute_result"
    }
   ],
   "source": [
    "print(len(all_data))\n",
    "all_data"
   ]
  },
  {
   "cell_type": "markdown",
   "metadata": {},
   "source": [
    "## Q&A"
   ]
  },
  {
   "cell_type": "code",
   "execution_count": 22,
   "metadata": {},
   "outputs": [
    {
     "name": "stdout",
     "output_type": "stream",
     "text": [
      "DatetimeIndex(['2024-04-23', '2024-04-24', '2024-04-25', '2024-04-26',\n",
      "               '2024-04-27'],\n",
      "              dtype='datetime64[ns]', freq='D')\n"
     ]
    },
    {
     "data": {
      "text/plain": [
       "DatetimeIndex(['2024-04-30', '2024-05-01', '2024-05-02', '2024-05-03',\n",
       "               '2024-05-03'],\n",
       "              dtype='datetime64[ns]', freq=None)"
      ]
     },
     "execution_count": 22,
     "metadata": {},
     "output_type": "execute_result"
    }
   ],
   "source": [
    "rng = pd.date_range(\"4/23/2024 00:00\", periods = 5, freq = \"D\")\n",
    "print(rng)\n",
    "rng + pd.offsets.BusinessDay(5)"
   ]
  },
  {
   "cell_type": "code",
   "execution_count": 23,
   "metadata": {},
   "outputs": [
    {
     "name": "stdout",
     "output_type": "stream",
     "text": [
      "DatetimeIndex(['2024-04-23', '2024-04-24', '2024-04-25', '2024-04-26',\n",
      "               '2024-04-27'],\n",
      "              dtype='datetime64[ns]', freq='D')\n",
      "DatetimeIndex(['2024-04-30', '2024-05-01', '2024-05-02', '2024-05-03',\n",
      "               '2024-05-03'],\n",
      "              dtype='datetime64[ns]', freq=None)\n"
     ]
    }
   ],
   "source": [
    "rng = pd.date_range(\"4/23/2024 00:00\", periods = 5, freq = \"D\")\n",
    "\n",
    "# rng 출력\n",
    "print(rng)\n",
    "\n",
    "# BusinessDay offset 적용\n",
    "rng_biz_day = rng + pd.offsets.BusinessDay(5)\n",
    "print(rng_biz_day)"
   ]
  },
  {
   "cell_type": "code",
   "execution_count": 29,
   "metadata": {},
   "outputs": [
    {
     "data": {
      "text/plain": [
       "DatetimeIndex(['2024-04-30', '2024-05-01', '2024-05-02', '2024-05-03',\n",
       "               '2024-05-06'],\n",
       "              dtype='datetime64[ns]', freq=None)"
      ]
     },
     "execution_count": 29,
     "metadata": {},
     "output_type": "execute_result"
    }
   ],
   "source": [
    "def apply_biz_day(dates, offset):\n",
    "    result_dates = []\n",
    "    for date in dates:\n",
    "        # 주말 : 날짜 추가 없음 >> 다음 날짜 계산\n",
    "        if date.weekday() >= 5: # 5 : 주말\n",
    "            modified_date = date + pd.offsets.BusinessDay()\n",
    "        else:\n",
    "            modified_date = date\n",
    "    \n",
    "        result_dates.append(modified_date + pd.offsets.BusinessDay(offset))\n",
    "            \n",
    "    return pd.DatetimeIndex(result_dates)\n",
    "\n",
    "# 5개의 BusinessDay 적용\n",
    "apply_biz_day(rng, 5)"
   ]
  },
  {
   "cell_type": "code",
   "execution_count": null,
   "metadata": {},
   "outputs": [],
   "source": []
  }
 ],
 "metadata": {
  "kernelspec": {
   "display_name": "base",
   "language": "python",
   "name": "python3"
  },
  "language_info": {
   "codemirror_mode": {
    "name": "ipython",
    "version": 3
   },
   "file_extension": ".py",
   "mimetype": "text/x-python",
   "name": "python",
   "nbconvert_exporter": "python",
   "pygments_lexer": "ipython3",
   "version": "3.11.7"
  }
 },
 "nbformat": 4,
 "nbformat_minor": 2
}
