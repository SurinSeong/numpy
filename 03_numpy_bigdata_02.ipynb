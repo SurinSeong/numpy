{
 "cells": [
  {
   "cell_type": "code",
   "execution_count": 1,
   "metadata": {},
   "outputs": [],
   "source": [
    "import numpy as np\n",
    "import pandas as pd\n",
    "import matplotlib.pyplot as plt"
   ]
  },
  {
   "cell_type": "code",
   "execution_count": 2,
   "metadata": {},
   "outputs": [
    {
     "name": "stdout",
     "output_type": "stream",
     "text": [
      "[1 2 3], <class 'numpy.ndarray'>, (3,)\n"
     ]
    }
   ],
   "source": [
    "arr1 = np.array([1, 2, 3])\n",
    "print(f'{arr1}, {type(arr1)}, {arr1.shape}')"
   ]
  },
  {
   "cell_type": "code",
   "execution_count": 3,
   "metadata": {},
   "outputs": [
    {
     "name": "stdout",
     "output_type": "stream",
     "text": [
      "[[1 2 3]\n",
      " [4 5 6]], <class 'numpy.ndarray'>, (2, 3)\n"
     ]
    }
   ],
   "source": [
    "arr2 = np.array([[1, 2, 3], [4, 5, 6]])\n",
    "print(f'{arr2}, {type(arr2)}, {arr2.shape}')"
   ]
  },
  {
   "cell_type": "code",
   "execution_count": 4,
   "metadata": {},
   "outputs": [
    {
     "name": "stdout",
     "output_type": "stream",
     "text": [
      "[[1 2 3]], <class 'numpy.ndarray'>, (1, 3), 2D.\n"
     ]
    }
   ],
   "source": [
    "arr3 = np.array([[1, 2, 3]])\n",
    "print(f'{arr3}, {type(arr3)}, {arr3.shape}, {arr3.ndim}D.')"
   ]
  },
  {
   "cell_type": "code",
   "execution_count": 5,
   "metadata": {},
   "outputs": [
    {
     "name": "stdout",
     "output_type": "stream",
     "text": [
      "arr1 : 1D.\n",
      "arr2 : 2D.\n",
      "arr3 : 2D.\n"
     ]
    }
   ],
   "source": [
    "# 차원 확인\n",
    "print(f'arr1 : {arr1.ndim}D.')\n",
    "print(f'arr2 : {arr2.ndim}D.')\n",
    "print(f'arr3 : {arr3.ndim}D.')"
   ]
  },
  {
   "cell_type": "code",
   "execution_count": 6,
   "metadata": {},
   "outputs": [
    {
     "name": "stdout",
     "output_type": "stream",
     "text": [
      "[0 1 2]\n",
      "[ 1  4  7 10 13 16 19]\n"
     ]
    }
   ],
   "source": [
    "# arange : array + range\n",
    "print(np.arange(3))\n",
    "print(np.arange(1, 20, 3))"
   ]
  },
  {
   "cell_type": "code",
   "execution_count": 7,
   "metadata": {},
   "outputs": [
    {
     "data": {
      "text/plain": [
       "array([[0., 0., 0., 0., 0.],\n",
       "       [0., 0., 0., 0., 0.]])"
      ]
     },
     "execution_count": 7,
     "metadata": {},
     "output_type": "execute_result"
    }
   ],
   "source": [
    "# numpy array 초기화\n",
    "np.zeros((2, 5))"
   ]
  },
  {
   "cell_type": "markdown",
   "metadata": {},
   "source": [
    "* np.zeros_like() : () 안의 배열과 동일한 모양을 가진 배열을 0으로 채워서 생성하기"
   ]
  },
  {
   "cell_type": "code",
   "execution_count": 9,
   "metadata": {},
   "outputs": [
    {
     "name": "stdout",
     "output_type": "stream",
     "text": [
      "[[1. 1. 1. 1.]\n",
      " [1. 1. 1. 1.]\n",
      " [1. 1. 1. 1.]]\n",
      "[[0. 0. 0. 0.]\n",
      " [0. 0. 0. 0.]\n",
      " [0. 0. 0. 0.]]\n"
     ]
    }
   ],
   "source": [
    "one_a = np.ones((3, 4))\n",
    "print(one_a)\n",
    "print(np.zeros_like(one_a))"
   ]
  },
  {
   "cell_type": "code",
   "execution_count": 10,
   "metadata": {},
   "outputs": [
    {
     "name": "stdout",
     "output_type": "stream",
     "text": [
      "[[1 2 3]\n",
      " [4 5 6]]\n",
      "[[0 0 0]\n",
      " [0 0 0]]\n"
     ]
    }
   ],
   "source": [
    "one_b = np.array([[1, 2, 3], [4, 5, 6]])\n",
    "print(one_b)\n",
    "print(np.zeros_like(one_b))"
   ]
  },
  {
   "cell_type": "code",
   "execution_count": 11,
   "metadata": {},
   "outputs": [
    {
     "name": "stdout",
     "output_type": "stream",
     "text": [
      "[[9 9 9]\n",
      " [9 9 9]\n",
      " [9 9 9]\n",
      " [9 9 9]]\n"
     ]
    }
   ],
   "source": [
    "# np.full()\n",
    "print(np.full((4, 3), 9))"
   ]
  },
  {
   "cell_type": "code",
   "execution_count": 15,
   "metadata": {},
   "outputs": [
    {
     "name": "stdout",
     "output_type": "stream",
     "text": [
      "[[4.17022005e-01 7.20324493e-01 1.14374817e-04 3.02332573e-01]\n",
      " [1.46755891e-01 9.23385948e-02 1.86260211e-01 3.45560727e-01]\n",
      " [3.96767474e-01 5.38816734e-01 4.19194514e-01 6.85219500e-01]]\n",
      "[[0.20445225 0.87811744 0.02738759 0.67046751]\n",
      " [0.4173048  0.55868983 0.14038694 0.19810149]\n",
      " [0.80074457 0.96826158 0.31342418 0.69232262]]\n",
      "[[[0.87638915 0.89460666 0.08504421 0.03905478]\n",
      "  [0.16983042 0.8781425  0.09834683 0.42110763]\n",
      "  [0.95788953 0.53316528 0.69187711 0.31551563]]\n",
      "\n",
      " [[0.68650093 0.83462567 0.01828828 0.75014431]\n",
      "  [0.98886109 0.74816565 0.28044399 0.78927933]\n",
      "  [0.10322601 0.44789353 0.9085955  0.29361415]]]\n",
      "[[-0.69166075 -0.39675353 -0.6871727  -0.84520564]\n",
      " [-0.67124613 -0.0126646  -1.11731035  0.2344157 ]\n",
      " [ 1.65980218  0.74204416 -0.19183555 -0.88762896]]\n"
     ]
    }
   ],
   "source": [
    "# np.random.random() vs. np.random.rand()\n",
    "# seed 생성\n",
    "np.random.seed(1)\n",
    "\n",
    "# random : 0 ~ 1 중 무작위 수\n",
    "# 배열의 형태(파라미터)를 튜플 형태로 받는다.\n",
    "print(np.random.random((3, 4)))\n",
    "\n",
    "# rand : 0 ~ 1 중 무작위 수\n",
    "# 여러 개의 파라미터를 받아 차원을 설정할 수 있다.\n",
    "print(np.random.rand(3, 4))\n",
    "print(np.random.rand(2, 3, 4))\n",
    "\n",
    "# randn : 표준정규분포\n",
    "print(np.random.randn(3, 4))\n",
    "# 표준화 : (x - x_Bar) / std"
   ]
  },
  {
   "cell_type": "code",
   "execution_count": 17,
   "metadata": {},
   "outputs": [
    {
     "name": "stdout",
     "output_type": "stream",
     "text": [
      "[[1. 0. 0. 0.]\n",
      " [0. 1. 0. 0.]\n",
      " [0. 0. 1. 0.]\n",
      " [0. 0. 0. 1.]]\n"
     ]
    }
   ],
   "source": [
    "# np.eye() : 항등 행렬\n",
    "# A * I = A\n",
    "print(np.eye(4))"
   ]
  },
  {
   "cell_type": "code",
   "execution_count": 18,
   "metadata": {},
   "outputs": [
    {
     "name": "stdout",
     "output_type": "stream",
     "text": [
      "[[2 3 1 5]\n",
      " [8 1 3 4]\n",
      " [5 6 7 8]\n",
      " [1 2 3 4]]\n",
      "[[1. 0. 0. 0.]\n",
      " [0. 1. 0. 0.]\n",
      " [0. 0. 1. 0.]\n",
      " [0. 0. 0. 1.]]\n",
      "[[2. 3. 1. 5.]\n",
      " [8. 1. 3. 4.]\n",
      " [5. 6. 7. 8.]\n",
      " [1. 2. 3. 4.]]\n"
     ]
    }
   ],
   "source": [
    "# 일반 행렬과 항등 행렬과의 내적은 자기 자신이다.\n",
    "\n",
    "A = np.array([[2, 3, 1, 5],\n",
    "              [8, 1, 3, 4],\n",
    "              [5, 6, 7, 8],\n",
    "              [1, 2, 3, 4]\n",
    "              ])\n",
    "print(A)\n",
    "\n",
    "I = np.eye(4)\n",
    "print(I)\n",
    "\n",
    "print(A@I)"
   ]
  },
  {
   "cell_type": "code",
   "execution_count": 19,
   "metadata": {},
   "outputs": [
    {
     "name": "stdout",
     "output_type": "stream",
     "text": [
      "[ 0  1  2  3  4  5  6  7  8  9 10 11] --> (12,)\n",
      "[[ 0  1  2  3]\n",
      " [ 4  5  6  7]\n",
      " [ 8  9 10 11]] --> (3, 4)\n"
     ]
    }
   ],
   "source": [
    "# numpy array 크기\n",
    "\n",
    "arr = np.arange(12)\n",
    "print(f'{arr} --> {arr.shape}')\n",
    "arr2 = arr.reshape(3, -1)\n",
    "print(f'{arr2} --> {arr2.shape}')"
   ]
  },
  {
   "cell_type": "code",
   "execution_count": 20,
   "metadata": {},
   "outputs": [
    {
     "data": {
      "text/plain": [
       "array([[ 0,  4,  8],\n",
       "       [ 1,  5,  9],\n",
       "       [ 2,  6, 10],\n",
       "       [ 3,  7, 11]])"
      ]
     },
     "execution_count": 20,
     "metadata": {},
     "output_type": "execute_result"
    }
   ],
   "source": [
    "# order = 'F' : 값을 수직으로 채워넣음.\n",
    "arr.reshape(4, -1, order='F')"
   ]
  },
  {
   "cell_type": "code",
   "execution_count": 22,
   "metadata": {},
   "outputs": [
    {
     "name": "stdout",
     "output_type": "stream",
     "text": [
      "[0 1 2 3 4 5 6 7 8 9]\n",
      "[[0 1 2 3 4]\n",
      " [5 6 7 8 9]] --> 2\n"
     ]
    }
   ],
   "source": [
    "arr1 = np.arange(10)\n",
    "print(arr1)\n",
    "\n",
    "arr2 = arr1.reshape(-1, 5)\n",
    "print(f'{arr2} --> {arr2.ndim}')"
   ]
  },
  {
   "cell_type": "code",
   "execution_count": 23,
   "metadata": {},
   "outputs": [
    {
     "name": "stdout",
     "output_type": "stream",
     "text": [
      "[ 0  1  2  3  4  5  6  7  8  9 10 11] --> (12,)\n",
      "[[[ 0  1]\n",
      "  [ 2  3]\n",
      "  [ 4  5]]\n",
      "\n",
      " [[ 6  7]\n",
      "  [ 8  9]\n",
      "  [10 11]]] --> 3. (2, 3, 2)\n"
     ]
    }
   ],
   "source": [
    "arr3 = np.arange(12)\n",
    "print(f'{arr3} --> {arr3.shape}')\n",
    "\n",
    "arr4 = arr3.reshape(2, 3, 2)\n",
    "print(f'{arr4} --> {arr4.ndim}. {arr4.shape}')"
   ]
  },
  {
   "cell_type": "code",
   "execution_count": 24,
   "metadata": {},
   "outputs": [
    {
     "name": "stdout",
     "output_type": "stream",
     "text": [
      "[[[ 0  6]\n",
      "  [ 2  8]\n",
      "  [ 4 10]]\n",
      "\n",
      " [[ 1  7]\n",
      "  [ 3  9]\n",
      "  [ 5 11]]] --> 3.\n"
     ]
    }
   ],
   "source": [
    "arr5 = arr3.reshape(2, 3, 2, order='F')\n",
    "print(f'{arr5} --> {arr5.ndim}.')"
   ]
  },
  {
   "cell_type": "code",
   "execution_count": 25,
   "metadata": {},
   "outputs": [
    {
     "name": "stdout",
     "output_type": "stream",
     "text": [
      "[[0 1 2 3 4]\n",
      " [5 6 7 8 9]]\n",
      "[0 1 2 3 4 5 6 7 8 9]\n"
     ]
    }
   ],
   "source": [
    "# 1차원으로 변환\n",
    "print(f'{arr2}\\n{arr2.flatten()}')"
   ]
  },
  {
   "cell_type": "code",
   "execution_count": 28,
   "metadata": {},
   "outputs": [
    {
     "name": "stdout",
     "output_type": "stream",
     "text": [
      "[1 2 3 4 5 6 7 8 9]\n",
      "3 8\n"
     ]
    }
   ],
   "source": [
    "# numpy array 데이터 추출\n",
    "# indexing\n",
    "arr1 = np.arange(1, 10)\n",
    "print(arr1)\n",
    "print(arr1[2], arr1[-2])"
   ]
  },
  {
   "cell_type": "code",
   "execution_count": 29,
   "metadata": {},
   "outputs": [
    {
     "name": "stdout",
     "output_type": "stream",
     "text": [
      "[[1 2 3]\n",
      " [4 5 6]\n",
      " [7 8 9]] --> 2\n",
      "1\n",
      "8\n",
      "[7 8]\n"
     ]
    }
   ],
   "source": [
    "arr2 = arr1.reshape(3, -1)\n",
    "print(f'{arr2} --> {arr2.ndim}')\n",
    "print(arr2[0, 0])\n",
    "print(arr2[-1, -2])\n",
    "print(arr2[-1, :-1])"
   ]
  },
  {
   "cell_type": "code",
   "execution_count": 31,
   "metadata": {},
   "outputs": [
    {
     "name": "stdout",
     "output_type": "stream",
     "text": [
      "[1 2 3 4 5 6 7 8 9]\n",
      "[1 2 3]\n",
      "[2 3]\n",
      "[[1 2 3]\n",
      " [4 5 6]\n",
      " [7 8 9]]\n"
     ]
    }
   ],
   "source": [
    "print(arr1)\n",
    "\n",
    "arr2 = arr1[0:3]\n",
    "print(arr2)\n",
    "\n",
    "arr3 = arr2[1:]\n",
    "print(arr3)\n",
    "\n",
    "arr4 = arr1.reshape(3, -1)\n",
    "print(arr4)"
   ]
  },
  {
   "cell_type": "code",
   "execution_count": 34,
   "metadata": {},
   "outputs": [
    {
     "name": "stdout",
     "output_type": "stream",
     "text": [
      "[[1 2 3]\n",
      " [4 5 6]\n",
      " [7 8 9]]\n",
      "[[1 2]\n",
      " [4 5]]\n",
      "[[4 5 6]\n",
      " [7 8 9]]\n",
      "[[2 3]\n",
      " [5 6]]\n"
     ]
    }
   ],
   "source": [
    "# 슬라이싱\n",
    "print(arr4)\n",
    "print(arr4[:2, :2])\n",
    "print(arr4[1:3, :3])\n",
    "print(arr4[:2, 1:])\n"
   ]
  },
  {
   "cell_type": "code",
   "execution_count": 45,
   "metadata": {},
   "outputs": [
    {
     "name": "stdout",
     "output_type": "stream",
     "text": [
      "[[1 2 3]\n",
      " [4 5 6]]\n",
      "[[ 7  8]\n",
      " [ 9 10]\n",
      " [ 1  2]]\n",
      "[[28 34]\n",
      " [79 94]] --> 내적\n",
      "[[28 34]\n",
      " [79 94]]\n",
      "\n",
      "[[1 2 3]\n",
      " [4 5 6]]\n",
      "⊙\n",
      "[[1 4]\n",
      " [2 5]\n",
      " [3 6]]\n",
      "내적\n",
      "[[14 32]\n",
      " [32 77]]\n",
      "[[1 2 3]\n",
      " [4 5 6]]\n",
      "[[1 4]\n",
      " [2 5]\n",
      " [3 6]]\n"
     ]
    }
   ],
   "source": [
    "# 내적\n",
    "arr1 = np.array([[1, 2, 3], [4, 5, 6]])\n",
    "arr2 = np.array([[7, 8], [9, 10], [1, 2]])\n",
    "\n",
    "print(f'{arr1}\\n{arr2}')\n",
    "print(f'{arr1 @ arr2} --> 내적')\n",
    "print(np.dot(arr1, arr2))\n",
    "\n",
    "# 전치 행렬\n",
    "print(f'\\n{arr1}\\n⊙\\n{arr1.T}\\n내적\\n{arr1@arr1.T}')\n",
    "print(arr1)\n",
    "print(np.transpose(arr1))"
   ]
  },
  {
   "cell_type": "markdown",
   "metadata": {},
   "source": [
    "## numpy를 이용한 기술통계"
   ]
  },
  {
   "cell_type": "code",
   "execution_count": 47,
   "metadata": {},
   "outputs": [
    {
     "name": "stdout",
     "output_type": "stream",
     "text": [
      "7\n",
      "MEAN : 31.0\n",
      "VARIATION : 632.2857142857143\n",
      "STANDARD DEVIATION : 25.145292089886613\n"
     ]
    }
   ],
   "source": [
    "x = np.array([18, 26, 56, 9, 76, 34, -2])\n",
    "print(len(x))\n",
    "# 평균\n",
    "print('MEAN :', np.mean(x))\n",
    "# 분산\n",
    "print('VARIATION :', np.var(x))\n",
    "# 표준편차\n",
    "print('STANDARD DEVIATION :', np.std(x))"
   ]
  },
  {
   "cell_type": "code",
   "execution_count": 50,
   "metadata": {},
   "outputs": [
    {
     "name": "stdout",
     "output_type": "stream",
     "text": [
      "[18 26 56  9 76 34 -2]\n",
      "MAX : 76\n",
      "MIN : -2\n",
      "MEDIAN : 26.0\n",
      "[-2  9 18 26 34 56 76]\n"
     ]
    }
   ],
   "source": [
    "print(x)\n",
    "print('MAX :', np.max(x))\n",
    "print('MIN :', np.min(x))\n",
    "print('MEDIAN :', np.median(x))\n",
    "x.sort()\n",
    "print(x)"
   ]
  },
  {
   "cell_type": "code",
   "execution_count": 54,
   "metadata": {},
   "outputs": [
    {
     "name": "stdout",
     "output_type": "stream",
     "text": [
      "Q1 : 13.5\n",
      "Q2 : 26.0\n",
      "Q3 : 45.0\n",
      "IQR : 31.5\n",
      "OUTLIER : 13.5 보다 작고 45.0 보다 크다.\n"
     ]
    }
   ],
   "source": [
    "# 사분위수 --> boxplot에서 사용됨.\n",
    "\n",
    "print('Q1 :', np.percentile(x, 25))\n",
    "# Q2는 중앙값과 같다.\n",
    "print('Q2 :', np.percentile(x, 50))\n",
    "print('Q3 :', np.percentile(x, 75))\n",
    "print('IQR :', np.percentile(x, 75) - np.percentile(x, 25))\n",
    "print('OUTLIER :', np.percentile(x, 25), '보다 작고', np.percentile(x, 75), '보다 크다.')"
   ]
  },
  {
   "cell_type": "code",
   "execution_count": null,
   "metadata": {},
   "outputs": [],
   "source": []
  }
 ],
 "metadata": {
  "kernelspec": {
   "display_name": "base",
   "language": "python",
   "name": "python3"
  },
  "language_info": {
   "codemirror_mode": {
    "name": "ipython",
    "version": 3
   },
   "file_extension": ".py",
   "mimetype": "text/x-python",
   "name": "python",
   "nbconvert_exporter": "python",
   "pygments_lexer": "ipython3",
   "version": "3.11.7"
  }
 },
 "nbformat": 4,
 "nbformat_minor": 2
}
