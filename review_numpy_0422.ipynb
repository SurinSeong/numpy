{
 "cells": [
  {
   "cell_type": "code",
   "execution_count": 1,
   "id": "7dd7a6a5-6c76-4ab9-a3e6-47a68f3cd7d6",
   "metadata": {},
   "outputs": [],
   "source": [
    "# 사용할 클래스 임포트\n",
    "import numpy as np\n",
    "import pandas as pd\n",
    "import matplotlib.pyplot as plt"
   ]
  },
  {
   "cell_type": "code",
   "execution_count": 3,
   "id": "eeb9c047-7b2c-4b3e-960c-5799176df78a",
   "metadata": {},
   "outputs": [
    {
     "name": "stdout",
     "output_type": "stream",
     "text": [
      "list : [1, 2, 3]\n",
      "array : [1 2 3]\n",
      "1\n",
      "3\n"
     ]
    }
   ],
   "source": [
    "# list와 numpy의 차이\n",
    "# list\n",
    "list1 = [1, 2, 3]\n",
    "print('list :', list1)\n",
    "\n",
    "# array\n",
    "arr = np.array([1, 2, 3])\n",
    "print('array :', arr) # 리스트와 같이 출력됨 (하지만 ,가 없음)\n",
    "print(arr[0]) # 인덱싱 가능 = 순서가 있음.\n",
    "print(arr[-1])"
   ]
  },
  {
   "cell_type": "code",
   "execution_count": 5,
   "id": "24be50c3-b6ad-4f9b-8bbe-95afddc7bb1c",
   "metadata": {},
   "outputs": [
    {
     "name": "stdout",
     "output_type": "stream",
     "text": [
      "[1, 2, 3, 4, 5, 6] 6\n",
      "[5 7 9] 6\n"
     ]
    }
   ],
   "source": [
    "# numpy 배우는 이유\n",
    "# list + list = 연장된 list\n",
    "a = [1, 2, 3]\n",
    "b = [4, 5, 6]\n",
    "c = a + b\n",
    "print(c, len(c))\n",
    "\n",
    "# arrat + array = 같은 위치끼리 더해짐\n",
    "arr_a = np.array([1, 2, 3])\n",
    "arr_b = np.array([4, 5, 6])\n",
    "arr_c = arr_a + arr_b\n",
    "print(arr_c, len(c))"
   ]
  },
  {
   "cell_type": "code",
   "execution_count": 8,
   "id": "244a4ca5-93e0-4338-9e3f-082e3d45f944",
   "metadata": {},
   "outputs": [
    {
     "name": "stdout",
     "output_type": "stream",
     "text": [
      "arr_d : [[1 2 3]\n",
      " [4 5 6]\n",
      " [7 8 9]]\n",
      "last list : [7 8 9]\n",
      "last element : 9\n"
     ]
    }
   ],
   "source": [
    "# 여러 개의 리스트를 담으려면 []안에 여러 list를 작성해야 한다.\n",
    "arr_d = np.array([[1, 2, 3], [4, 5, 6], [7, 8, 9]])\n",
    "print('arr_d :', arr_d)\n",
    "print('last list :', arr_d[-1])\n",
    "print('last element :', arr_d[-1][-1])"
   ]
  },
  {
   "cell_type": "markdown",
   "id": "870090cd-efc8-4949-b1b4-59fe22af2deb",
   "metadata": {},
   "source": [
    "## Numpy 배열 속성"
   ]
  },
  {
   "cell_type": "code",
   "execution_count": 9,
   "id": "de7ce601-ef28-4719-85df-e98418019e82",
   "metadata": {},
   "outputs": [
    {
     "name": "stdout",
     "output_type": "stream",
     "text": [
      "[[1 2 3]\n",
      " [4 5 6]\n",
      " [7 8 9]] (3, 3)\n"
     ]
    }
   ],
   "source": [
    "# shape : 배열의 형태 확인하기 ==> (행, 열)\n",
    "# 무조건 확인해야 함!!\n",
    "print(arr_d, arr_d.shape)"
   ]
  },
  {
   "cell_type": "code",
   "execution_count": 10,
   "id": "8c079be3-737a-451b-b49b-871ce7edb4e2",
   "metadata": {},
   "outputs": [
    {
     "name": "stdout",
     "output_type": "stream",
     "text": [
      "[1 2 3] (3,)\n"
     ]
    }
   ],
   "source": [
    "# 1차원\n",
    "print(arr_a, arr_a.shape)"
   ]
  },
  {
   "cell_type": "code",
   "execution_count": 12,
   "id": "31cd83b9-2b92-442b-a7a6-5e9f39dd9138",
   "metadata": {},
   "outputs": [
    {
     "name": "stdout",
     "output_type": "stream",
     "text": [
      "[[1]\n",
      " [2]\n",
      " [3]] (3, 1)\n"
     ]
    }
   ],
   "source": [
    "arr_e = np.array([[1], [2], [3]])\n",
    "print(arr_e, arr_e.shape)"
   ]
  },
  {
   "cell_type": "code",
   "execution_count": 14,
   "id": "1de9d603-eeea-44b1-ad04-5eac820b93f6",
   "metadata": {},
   "outputs": [
    {
     "name": "stdout",
     "output_type": "stream",
     "text": [
      "[[1 2 3]\n",
      " [4 5 6]] (2, 3)\n"
     ]
    }
   ],
   "source": [
    "arr_f = np.array([[1, 2, 3], [4, 5, 6]])\n",
    "print(arr_f, arr_f.shape)"
   ]
  },
  {
   "cell_type": "code",
   "execution_count": 15,
   "id": "cc7db9d2-02e3-4f09-8182-98dfcb45ce21",
   "metadata": {},
   "outputs": [
    {
     "name": "stdout",
     "output_type": "stream",
     "text": [
      "arr_a의 차원 : 1 arr_f의 차원 : 2\n"
     ]
    }
   ],
   "source": [
    "# 배열의 차원 : ndim(number of dimension)\n",
    "print('arr_a의 차원 :', arr_a.ndim, 'arr_f의 차원 :', arr_f.ndim)"
   ]
  },
  {
   "cell_type": "code",
   "execution_count": 16,
   "id": "6302bdd5-e95f-4503-9066-1dc42af59575",
   "metadata": {},
   "outputs": [
    {
     "data": {
      "text/plain": [
       "dtype('int32')"
      ]
     },
     "execution_count": 16,
     "metadata": {},
     "output_type": "execute_result"
    }
   ],
   "source": [
    "# dtype(data type) : 요소의 자료형\n",
    "arr_f.dtype"
   ]
  },
  {
   "cell_type": "code",
   "execution_count": 17,
   "id": "a5b48469-95d4-4d2d-b3a6-008b46df9565",
   "metadata": {},
   "outputs": [
    {
     "data": {
      "text/plain": [
       "4"
      ]
     },
     "execution_count": 17,
     "metadata": {},
     "output_type": "execute_result"
    }
   ],
   "source": [
    "# itemsize : 요소 하나의 크기\n",
    "arr_f.itemsize"
   ]
  },
  {
   "cell_type": "code",
   "execution_count": 19,
   "id": "fa573438-64a1-443e-acd6-891934517ff4",
   "metadata": {},
   "outputs": [
    {
     "data": {
      "text/plain": [
       "6"
      ]
     },
     "execution_count": 19,
     "metadata": {},
     "output_type": "execute_result"
    }
   ],
   "source": [
    "# size : 전체 요소의 개수\n",
    "arr_f.size"
   ]
  },
  {
   "cell_type": "code",
   "execution_count": 20,
   "id": "34c7d0ed-dfd3-446d-a89a-41c453d37270",
   "metadata": {},
   "outputs": [
    {
     "name": "stdout",
     "output_type": "stream",
     "text": [
      "[[0. 0. 0. 0.]\n",
      " [0. 0. 0. 0.]\n",
      " [0. 0. 0. 0.]]\n",
      "[[1. 1. 1. 1.]\n",
      " [1. 1. 1. 1.]\n",
      " [1. 1. 1. 1.]]\n",
      "float64\n"
     ]
    }
   ],
   "source": [
    "print(np.zeros((3, 4)))\n",
    "print(np.ones((3, 4)))\n",
    "print(np.ones((3, 4)).dtype)"
   ]
  },
  {
   "cell_type": "code",
   "execution_count": 21,
   "id": "0c2eef69-f0ff-465e-ac44-9015a62a1d9b",
   "metadata": {},
   "outputs": [
    {
     "name": "stdout",
     "output_type": "stream",
     "text": [
      "[[1. 0. 0.]\n",
      " [0. 1. 0.]\n",
      " [0. 0. 1.]]\n"
     ]
    }
   ],
   "source": [
    "# 항등행렬\n",
    "print(np.eye(3))"
   ]
  },
  {
   "cell_type": "code",
   "execution_count": 24,
   "id": "52c1e299-fbf5-4121-aad1-3794e14722c5",
   "metadata": {},
   "outputs": [
    {
     "name": "stdout",
     "output_type": "stream",
     "text": [
      "[0 1 2 3 4]\n",
      "[1 2 3 4 5]\n",
      "[1 3 5 7 9]\n"
     ]
    }
   ],
   "source": [
    "# arange() (array + range) : 배열의 범위\n",
    "# np.arange(start, stop, step)\n",
    "print(np.arange(5))\n",
    "print(np.arange(1, 6))\n",
    "print(np.arange(1, 10, 2))"
   ]
  },
  {
   "cell_type": "code",
   "execution_count": 25,
   "id": "7a0dc357-34e9-459d-bfa9-487e6767b2ce",
   "metadata": {},
   "outputs": [
    {
     "name": "stdout",
     "output_type": "stream",
     "text": [
      "[ 0.          1.11111111  2.22222222  3.33333333  4.44444444  5.55555556\n",
      "  6.66666667  7.77777778  8.88888889 10.        ]\n",
      "[ 1.    3.25  5.5   7.75 10.  ]\n"
     ]
    }
   ],
   "source": [
    "# linspace()\n",
    "# 0 ~ 10에서 동등하게 10개로 균등하게 나누기\n",
    "print(np.linspace(0, 10, 10))\n",
    "print(np.linspace(1, 10, 5))"
   ]
  },
  {
   "cell_type": "markdown",
   "id": "66a7e1e8-0843-4185-a4df-b0a047ba78c0",
   "metadata": {},
   "source": [
    "## 배열 합치기"
   ]
  },
  {
   "cell_type": "code",
   "execution_count": 27,
   "id": "f8a6956f-35e7-43fc-8701-0f330d3f2b2d",
   "metadata": {},
   "outputs": [
    {
     "name": "stdout",
     "output_type": "stream",
     "text": [
      "x : [[1 2]\n",
      " [3 4]] \n",
      "y : [[5 6]\n",
      " [7 8]]\n"
     ]
    }
   ],
   "source": [
    "# 2개의 배열 합치기\n",
    "x = np.array([[1, 2], [3, 4]])\n",
    "y = np.array([[5, 6], [7, 8]])\n",
    "\n",
    "print('x :', x, '\\ny :', y)"
   ]
  },
  {
   "cell_type": "code",
   "execution_count": 29,
   "id": "a13d4bb9-5216-4606-8577-6ca80d950c44",
   "metadata": {},
   "outputs": [
    {
     "name": "stdout",
     "output_type": "stream",
     "text": [
      "row를 기준으로\n",
      " [[1 2]\n",
      " [3 4]\n",
      " [5 6]\n",
      " [7 8]] \n",
      " (4, 2)\n",
      "column을 기준으로\n",
      " [[1 2 5 6]\n",
      " [3 4 7 8]] \n",
      " (2, 4)\n"
     ]
    }
   ],
   "source": [
    "# 함수 이용해서 배열 합치기\n",
    "# concatenate() : 배열 합치기 (default : axis=0)\n",
    "concat_0 = np.concatenate((x, y))\n",
    "concat_1 = np.concatenate((x, y), axis=1)\n",
    "print('row를 기준으로\\n', concat_0, '\\n', concat_0.shape)\n",
    "print('column을 기준으로\\n', concat_1, '\\n', concat_1.shape)"
   ]
  },
  {
   "cell_type": "code",
   "execution_count": 31,
   "id": "88ed9420-c24a-472c-86dd-67666e842233",
   "metadata": {},
   "outputs": [
    {
     "name": "stdout",
     "output_type": "stream",
     "text": [
      "수직으로 쌓으면\n",
      " [[1 2]\n",
      " [3 4]\n",
      " [5 6]\n",
      " [7 8]]\n",
      "수평으로 쌓으면\n",
      " [[1 2 5 6]\n",
      " [3 4 7 8]]\n"
     ]
    }
   ],
   "source": [
    "# vstack : 수직으로 쌓기\n",
    "# == concatenate(axis=0)\n",
    "# hstack : 수평으로 쌓기\n",
    "# == concatenate(axis=1)\n",
    "\n",
    "print('수직으로 쌓으면\\n', np.vstack((x, y)))\n",
    "print('수평으로 쌓으면\\n', np.hstack((x, y)))"
   ]
  },
  {
   "cell_type": "markdown",
   "id": "4e2bc3bf-1fb0-4bc3-9097-65517762adb5",
   "metadata": {},
   "source": [
    "## reshape"
   ]
  },
  {
   "cell_type": "code",
   "execution_count": 34,
   "id": "b761b7c0-0abb-4b74-ae72-bbd3bdde600d",
   "metadata": {},
   "outputs": [
    {
     "name": "stdout",
     "output_type": "stream",
     "text": [
      "[ 0  1  2  3  4  5  6  7  8  9 10 11] is 1D, (12,).\n"
     ]
    }
   ],
   "source": [
    "# reshape --> 차원 변화, 형태 변화\n",
    "d = np.arange(12)\n",
    "print(f'{d} is {d.ndim}D, {d.shape}.')"
   ]
  },
  {
   "cell_type": "code",
   "execution_count": 35,
   "id": "a84c142b-87ea-426c-93b1-983a0af2d656",
   "metadata": {},
   "outputs": [
    {
     "name": "stdout",
     "output_type": "stream",
     "text": [
      "[[ 0  1  2  3]\n",
      " [ 4  5  6  7]\n",
      " [ 8  9 10 11]] is 2D, (3, 4).\n"
     ]
    }
   ],
   "source": [
    "# 1차원에서 2차원으로\n",
    "dim_2d = d.reshape(3, 4)\n",
    "print(f'{dim_2d} is {dim_2d.ndim}D, {dim_2d.shape}.')"
   ]
  },
  {
   "cell_type": "code",
   "execution_count": 37,
   "id": "3d9556c6-3b56-4809-ac67-949b799ba9d8",
   "metadata": {},
   "outputs": [
    {
     "name": "stdout",
     "output_type": "stream",
     "text": [
      "[[ 0  1  2  3]\n",
      " [ 4  5  6  7]\n",
      " [ 8  9 10 11]] : column을 -1로 정함.\n"
     ]
    }
   ],
   "source": [
    "# 1차원에서 2차원으로 변경할 때, row의 개수와 column의 개수를 지정해야 한다.\n",
    "'''\n",
    "하지만 데이터의 개수가 너무 많을 경우 직접 정할 수 없기 때문에,\n",
    "row나 column의 개수를 정한 후, 나머지를 -1로 정하면 된다.\n",
    "'''\n",
    "dim_2d_02 = d.reshape(3, -1)\n",
    "print(f'{dim_2d_02} : column을 -1로 정함.')"
   ]
  },
  {
   "cell_type": "code",
   "execution_count": 38,
   "id": "092ea622-c763-4d2c-83b4-a493521bee12",
   "metadata": {},
   "outputs": [
    {
     "name": "stdout",
     "output_type": "stream",
     "text": [
      "[  0   1   2   3   4   5   6   7   8   9  10  11  12  13  14  15  16  17\n",
      "  18  19  20  21  22  23  24  25  26  27  28  29  30  31  32  33  34  35\n",
      "  36  37  38  39  40  41  42  43  44  45  46  47  48  49  50  51  52  53\n",
      "  54  55  56  57  58  59  60  61  62  63  64  65  66  67  68  69  70  71\n",
      "  72  73  74  75  76  77  78  79  80  81  82  83  84  85  86  87  88  89\n",
      "  90  91  92  93  94  95  96  97  98  99 100 101 102 103 104 105 106 107\n",
      " 108 109 110 111 112 113 114 115 116 117 118 119] : 1D. --> (120,)\n",
      "[[  0   1   2]\n",
      " [  3   4   5]\n",
      " [  6   7   8]\n",
      " [  9  10  11]\n",
      " [ 12  13  14]\n",
      " [ 15  16  17]\n",
      " [ 18  19  20]\n",
      " [ 21  22  23]\n",
      " [ 24  25  26]\n",
      " [ 27  28  29]\n",
      " [ 30  31  32]\n",
      " [ 33  34  35]\n",
      " [ 36  37  38]\n",
      " [ 39  40  41]\n",
      " [ 42  43  44]\n",
      " [ 45  46  47]\n",
      " [ 48  49  50]\n",
      " [ 51  52  53]\n",
      " [ 54  55  56]\n",
      " [ 57  58  59]\n",
      " [ 60  61  62]\n",
      " [ 63  64  65]\n",
      " [ 66  67  68]\n",
      " [ 69  70  71]\n",
      " [ 72  73  74]\n",
      " [ 75  76  77]\n",
      " [ 78  79  80]\n",
      " [ 81  82  83]\n",
      " [ 84  85  86]\n",
      " [ 87  88  89]\n",
      " [ 90  91  92]\n",
      " [ 93  94  95]\n",
      " [ 96  97  98]\n",
      " [ 99 100 101]\n",
      " [102 103 104]\n",
      " [105 106 107]\n",
      " [108 109 110]\n",
      " [111 112 113]\n",
      " [114 115 116]\n",
      " [117 118 119]] : 2D. --> (40, 3)\n"
     ]
    }
   ],
   "source": [
    "# row나 column을 -1로 정하기\n",
    "temp = np.arange(120)\n",
    "print(f'{temp} : {temp.ndim}D. --> {temp.shape}')\n",
    "\n",
    "temp_2d = temp.reshape(-1, 3)\n",
    "print(f'{temp_2d} : {temp_2d.ndim}D. --> {temp_2d.shape}')"
   ]
  },
  {
   "cell_type": "code",
   "execution_count": 39,
   "id": "4d62c89f-8b77-469e-bd2c-a43662820047",
   "metadata": {},
   "outputs": [
    {
     "name": "stdout",
     "output_type": "stream",
     "text": [
      "[ 0  1  2  3  4  5  6  7  8  9 10] : 1D. --> (11,)\n"
     ]
    }
   ],
   "source": [
    "# 이때 row와 column의 개수는 전체 데이터 개수의 약수이어야 한다.\n",
    "temp2 = np.arange(11)\n",
    "print(f'{temp2} : {temp2.ndim}D. --> {temp2.shape}')"
   ]
  },
  {
   "cell_type": "code",
   "execution_count": 41,
   "id": "8c2f8dc1-07e7-4da4-a8d5-bef5dc786c4c",
   "metadata": {},
   "outputs": [
    {
     "data": {
      "text/plain": [
       "'\\nValueError: cannot reshape array of size 11 into shape (2,newaxis)\\n'"
      ]
     },
     "execution_count": 41,
     "metadata": {},
     "output_type": "execute_result"
    }
   ],
   "source": [
    "# 위의 temp2의 약수는 1과 11뿐이기 때문에 이외의 수로 row와 column수를 정할 수 없다.\n",
    "# temp2.reshape(2, -1)\n",
    "'''\n",
    "ValueError: cannot reshape array of size 11 into shape (2,newaxis)\n",
    "'''"
   ]
  },
  {
   "cell_type": "markdown",
   "id": "cb810b64-1c7b-41fb-8c02-5f068a3a9b49",
   "metadata": {},
   "source": [
    "## 배열 분할"
   ]
  },
  {
   "cell_type": "code",
   "execution_count": 43,
   "id": "a953d663-8c69-43cd-a606-ebf5f9284d3f",
   "metadata": {},
   "outputs": [
    {
     "name": "stdout",
     "output_type": "stream",
     "text": [
      "[ 0  1  2  3  4  5  6  7  8  9 10 11 12 13 14 15 16 17 18 19 20 21 22 23\n",
      " 24 25 26 27 28 29] : 1D. --> (30,)\n",
      "[[ 0  1  2  3  4  5  6  7  8  9]\n",
      " [10 11 12 13 14 15 16 17 18 19]\n",
      " [20 21 22 23 24 25 26 27 28 29]] : 2D. --> (3, 10)\n"
     ]
    }
   ],
   "source": [
    "arr_g = np.arange(30)\n",
    "print(f'{arr_g} : {arr_g.ndim}D. --> {arr_g.shape}')\n",
    "\n",
    "arr_g_2d = arr_g.reshape(-1, 10)\n",
    "print(f'{arr_g_2d} : {arr_g_2d.ndim}D. --> {arr_g_2d.shape}')"
   ]
  },
  {
   "cell_type": "code",
   "execution_count": 47,
   "id": "e0060d68-9286-485c-8800-ed89a5ebb83e",
   "metadata": {},
   "outputs": [
    {
     "name": "stdout",
     "output_type": "stream",
     "text": [
      "[[ 0  1  2  3]\n",
      " [10 11 12 13]\n",
      " [20 21 22 23]] <-- FIRST,\n",
      " [[ 4  5  6  7  8  9]\n",
      " [14 15 16 17 18 19]\n",
      " [24 25 26 27 28 29]] <-- SECOND\n"
     ]
    }
   ],
   "source": [
    "# 하나의 array를 분할한 후 따로 저장가능하다.\n",
    "arr_g_01, arr_g_02 = np.split(arr_g_2d, [4], axis=1) # 중간에는 인덱스, axis=0는 row, axis=1는 column\n",
    "print(f'{arr_g_01} <-- FIRST,\\n {arr_g_02} <-- SECOND')"
   ]
  },
  {
   "cell_type": "code",
   "execution_count": 50,
   "id": "91edd268-407e-4c3a-9b35-b93f9e5b06b4",
   "metadata": {},
   "outputs": [
    {
     "name": "stdout",
     "output_type": "stream",
     "text": [
      "[1 2 3 4 5 6] <-- 1D. : (6,)\n"
     ]
    }
   ],
   "source": [
    "# newaxis\n",
    "arr_h = np.arange(1, 7)\n",
    "print(f'{arr_h} <-- {arr_h.ndim}D. : {arr_h.shape}')"
   ]
  },
  {
   "cell_type": "code",
   "execution_count": 51,
   "id": "d60b5fa7-26ad-49dc-90db-92c9c25220a5",
   "metadata": {},
   "outputs": [
    {
     "name": "stdout",
     "output_type": "stream",
     "text": [
      "[[1 2 3 4 5 6]] : 2D. --> (1, 6)\n"
     ]
    }
   ],
   "source": [
    "arr_h_2d = arr_h[np.newaxis, :]\n",
    "print(f'{arr_h_2d} : {arr_h_2d.ndim}D. --> {arr_h_2d.shape}')"
   ]
  },
  {
   "cell_type": "code",
   "execution_count": 52,
   "id": "27e04c55-3b1b-429a-afe9-c69258f79c68",
   "metadata": {},
   "outputs": [
    {
     "name": "stdout",
     "output_type": "stream",
     "text": [
      "[[1]\n",
      " [2]\n",
      " [3]\n",
      " [4]\n",
      " [5]\n",
      " [6]] : 2D. --> (6, 1)\n"
     ]
    }
   ],
   "source": [
    "arr_h2_2d = arr_h[:, np.newaxis]\n",
    "print(f'{arr_h2_2d} : {arr_h2_2d.ndim}D. --> {arr_h2_2d.shape}')"
   ]
  },
  {
   "cell_type": "markdown",
   "id": "f1c2962f-4ffa-4351-a7f0-99eda7356869",
   "metadata": {},
   "source": [
    "## 인덱싱과 슬라이싱"
   ]
  },
  {
   "cell_type": "code",
   "execution_count": 53,
   "id": "b725a6b3-b35b-4ab0-b01b-8d90f853f4c0",
   "metadata": {},
   "outputs": [
    {
     "name": "stdout",
     "output_type": "stream",
     "text": [
      "[26 28 19 17 33] : 1D. --> (5,)\n"
     ]
    }
   ],
   "source": [
    "ages = np.array([26, 28, 19, 17, 33])\n",
    "print(f'{ages} : {ages.ndim}D. --> {ages.shape}')"
   ]
  },
  {
   "cell_type": "code",
   "execution_count": 55,
   "id": "40b3325e-07e4-4f8c-bfb9-6c0b26ca223d",
   "metadata": {},
   "outputs": [
    {
     "name": "stdout",
     "output_type": "stream",
     "text": [
      "index가 2인 값 : 19\n",
      "slicing : [28 19], [26 28 19]\n"
     ]
    }
   ],
   "source": [
    "print(f'index가 2인 값 : {ages[2]}')\n",
    "print(f'slicing : {ages[1:3]}, {ages[:-2]}')"
   ]
  },
  {
   "cell_type": "code",
   "execution_count": 58,
   "id": "517f5c65-3fb3-4636-b7dc-28859fb150cc",
   "metadata": {},
   "outputs": [
    {
     "name": "stdout",
     "output_type": "stream",
     "text": [
      "조건에 맞는 값 : [26 28 33]\n"
     ]
    }
   ],
   "source": [
    "# 논리적 인덱싱 --> 조건을 이용하기\n",
    "condition = (ages > 20)\n",
    "\n",
    "# 조건이 True인 것만 뽑기\n",
    "print(f'조건에 맞는 값 : {ages[condition]}')"
   ]
  },
  {
   "cell_type": "code",
   "execution_count": 59,
   "id": "49ef089f-10b8-4fc6-b536-ab513fcb453d",
   "metadata": {},
   "outputs": [
    {
     "name": "stdout",
     "output_type": "stream",
     "text": [
      "[[1 2 3]\n",
      " [4 5 6]\n",
      " [7 8 9]] : 2D. --> (3, 3)\n",
      "The first list : [1 2 3],\n",
      "The third element of the first list : 3\n",
      "row index : 0, column index : 2 --> 3\n"
     ]
    }
   ],
   "source": [
    "# 2차원 배열 인덱싱하기\n",
    "a_2d = np.array([[1, 2, 3],\n",
    "                 [4, 5, 6],\n",
    "                 [7, 8, 9]])\n",
    "print(f'{a_2d} : {a_2d.ndim}D. --> {a_2d.shape}')\n",
    "print(f'The first list : {a_2d[0]},\\nThe third element of the first list : {a_2d[0][2]}')\n",
    "print(f'row index : 0, column index : 2 --> {a_2d[0, 2]}')"
   ]
  },
  {
   "cell_type": "code",
   "execution_count": 60,
   "id": "b43395e8-a686-4a27-b06c-464b7bfd8637",
   "metadata": {},
   "outputs": [
    {
     "name": "stdout",
     "output_type": "stream",
     "text": [
      "[[1 2 3]\n",
      " [4 5 6]\n",
      " [7 8 9]]\n",
      "[[12  2  3]\n",
      " [ 4  5  6]\n",
      " [ 7  8  9]]\n"
     ]
    }
   ],
   "source": [
    "# array안의 element 수정 가능하다.\n",
    "print(a_2d)\n",
    "a_2d[0, 0] = 12\n",
    "print(a_2d)"
   ]
  },
  {
   "cell_type": "code",
   "execution_count": 61,
   "id": "9e5d2a32-a5e3-46a2-83d0-6bd5a94eaa3b",
   "metadata": {},
   "outputs": [
    {
     "name": "stdout",
     "output_type": "stream",
     "text": [
      "[[12  2  3]\n",
      " [ 4  5  6]] : a_2d의 두 번째 행까지 출력. (2, 3)\n"
     ]
    }
   ],
   "source": [
    "# 인덱싱으로 원하는 행만 뽑기\n",
    "print(f'{a_2d[0:2]} : a_2d의 두 번째 행까지 출력. {a_2d[0:2].shape}')"
   ]
  },
  {
   "cell_type": "code",
   "execution_count": 62,
   "id": "2d1b8fe8-858a-43ce-afbd-9a0d449ecb2d",
   "metadata": {},
   "outputs": [
    {
     "name": "stdout",
     "output_type": "stream",
     "text": [
      "[[2 3]\n",
      " [5 6]] : a_2d의 첫 번째부터 두 번째 행까지와 두 번째 열부터 세 번째 열까지\n"
     ]
    }
   ],
   "source": [
    "print(f'{a_2d[0:2, 1:3]} : a_2d의 첫 번째부터 두 번째 행까지와 두 번째 열부터 세 번째 열까지')"
   ]
  },
  {
   "cell_type": "code",
   "execution_count": 65,
   "id": "8fbacdb7-e441-4276-a808-6038ac05d571",
   "metadata": {},
   "outputs": [
    {
     "name": "stdout",
     "output_type": "stream",
     "text": [
      "[[12  3]\n",
      " [ 7  9]]\n",
      "첫 번째 행의 첫 번째 요소, 세 번째 요소\n",
      "세 번째 행의 첫 번째 요소, 세 번째 요소\n"
     ]
    }
   ],
   "source": [
    "# 실무에서 사용한다던데\n",
    "print(a_2d[::2, ::2])\n",
    "print('첫 번째 행의 첫 번째 요소, 세 번째 요소\\n세 번째 행의 첫 번째 요소, 세 번째 요소')"
   ]
  },
  {
   "cell_type": "markdown",
   "id": "ef2ac452-6081-4925-a914-1feb3ea9e4bd",
   "metadata": {},
   "source": [
    "## numpy 연산"
   ]
  },
  {
   "cell_type": "code",
   "execution_count": 66,
   "id": "dc446bd8-15df-4987-be24-6cb14ba456e0",
   "metadata": {},
   "outputs": [
    {
     "name": "stdout",
     "output_type": "stream",
     "text": [
      "[[1 2]\n",
      " [3 4]\n",
      " [5 6]] [[1 1]\n",
      " [1 1]\n",
      " [1 1]]\n"
     ]
    }
   ],
   "source": [
    "arr1 = np.array([[1, 2], [3, 4], [5, 6]])\n",
    "arr2 = np.array([[1, 1], [1, 1], [1, 1]])\n",
    "print(arr1, arr2)"
   ]
  },
  {
   "cell_type": "code",
   "execution_count": 67,
   "id": "a1e8d8dd-a4b0-4bcb-be26-55b4c8b9569f",
   "metadata": {},
   "outputs": [
    {
     "name": "stdout",
     "output_type": "stream",
     "text": [
      "[[2 3]\n",
      " [4 5]\n",
      " [6 7]]\n"
     ]
    }
   ],
   "source": [
    "result = arr1 + arr2\n",
    "print(result)"
   ]
  },
  {
   "cell_type": "code",
   "execution_count": 68,
   "id": "183df75a-6da0-4c9b-8a50-c4cc8bf77dcc",
   "metadata": {},
   "outputs": [
    {
     "data": {
      "text/plain": [
       "array([1, 2, 3])"
      ]
     },
     "execution_count": 68,
     "metadata": {},
     "output_type": "execute_result"
    }
   ],
   "source": [
    "# Broad Casting\n",
    "np.array([1, 2, 3])"
   ]
  },
  {
   "cell_type": "code",
   "execution_count": 69,
   "id": "7865c7a3-20b0-48cc-9420-a1a5facede03",
   "metadata": {},
   "outputs": [
    {
     "name": "stdout",
     "output_type": "stream",
     "text": [
      "[1 2 3]\n",
      "[1.6 3.2 4.8]\n",
      "10\n"
     ]
    }
   ],
   "source": [
    "miles = np.array([1, 2, 3])\n",
    "print(miles)\n",
    "print(miles * 1.6)\n",
    "print(miles[0] * 10)"
   ]
  },
  {
   "cell_type": "code",
   "execution_count": 70,
   "id": "c780cf47-6a5e-4344-a635-e7c81fa6a8e4",
   "metadata": {},
   "outputs": [
    {
     "name": "stdout",
     "output_type": "stream",
     "text": [
      "[[1 2]\n",
      " [3 4]\n",
      " [5 6]]\n",
      "*\n",
      "[[2 2]\n",
      " [2 2]\n",
      " [2 2]]\n",
      "=\n",
      "[[ 2  4]\n",
      " [ 6  8]\n",
      " [10 12]]\n"
     ]
    }
   ],
   "source": [
    "# numpy 곱셈\n",
    "arr3 = np.array([[2, 2], [2, 2], [2, 2]])\n",
    "result = arr1 * arr3\n",
    "print(f'{arr1}\\n*\\n{arr3}\\n=\\n{result}')"
   ]
  },
  {
   "cell_type": "code",
   "execution_count": 73,
   "id": "d553afad-51eb-4359-b80f-2ad208369335",
   "metadata": {},
   "outputs": [
    {
     "name": "stdout",
     "output_type": "stream",
     "text": [
      "(3, 2) @ (3, 2)\n",
      "내적 불가능\n"
     ]
    }
   ],
   "source": [
    "# 내적(dot product) : 행렬 곱\n",
    "# (x, 3) @ (3, y) >> (x, y)\n",
    "\n",
    "print(f'{arr1.shape} @ {arr3.shape}')\n",
    "print('내적 불가능')"
   ]
  },
  {
   "cell_type": "code",
   "execution_count": 75,
   "id": "0e4884f6-9a8e-4454-b642-eb4e8fb38faf",
   "metadata": {},
   "outputs": [
    {
     "name": "stdout",
     "output_type": "stream",
     "text": [
      "[[2 2 2]\n",
      " [2 2 2]]\n",
      "(2, 3)\n"
     ]
    }
   ],
   "source": [
    "# arr1과 arr3의 내적을 위해 arr3의 형태 바꾸어 준다.\n",
    "# T : 전치 행렬\n",
    "print(f'{arr3.T}\\n{arr3.T.shape}')"
   ]
  },
  {
   "cell_type": "code",
   "execution_count": 76,
   "id": "278f0a15-679c-48bb-8aae-581eda9fa3ed",
   "metadata": {},
   "outputs": [
    {
     "name": "stdout",
     "output_type": "stream",
     "text": [
      "[[ 6  6  6]\n",
      " [14 14 14]\n",
      " [22 22 22]]\n",
      "(3, 3)\n"
     ]
    }
   ],
   "source": [
    "arr13 = arr1 @ arr3.T\n",
    "print(f'{arr13}\\n{arr13.shape}')"
   ]
  },
  {
   "cell_type": "markdown",
   "id": "0c03a203-bce6-4c7e-8f11-7e0332ebc0ec",
   "metadata": {},
   "source": [
    "## numpy 배열에 함수 적용하기"
   ]
  },
  {
   "cell_type": "code",
   "execution_count": 80,
   "id": "84c44099-7e05-44f9-a987-59e99b8ca163",
   "metadata": {},
   "outputs": [
    {
     "name": "stdout",
     "output_type": "stream",
     "text": [
      "array --> [0 1 2 3]\n",
      "list --> [0, 1, 2, 3]\n"
     ]
    }
   ],
   "source": [
    "a4 = np.array([0, 1, 2, 3])\n",
    "print(f'array --> {a4}\\nlist --> {[0, 1, 2, 3]}')"
   ]
  },
  {
   "cell_type": "code",
   "execution_count": 81,
   "id": "b78b0ede-4b90-454a-acb0-48f2ccccee83",
   "metadata": {},
   "outputs": [
    {
     "data": {
      "text/plain": [
       "array([0.        , 8.41470985, 9.09297427, 1.41120008])"
      ]
     },
     "execution_count": 81,
     "metadata": {},
     "output_type": "execute_result"
    }
   ],
   "source": [
    "# sin 함수 적용\n",
    "10 * np.sin(a4)"
   ]
  },
  {
   "cell_type": "code",
   "execution_count": 82,
   "id": "472abb20-c7e8-46bd-91bb-4781bade7f0f",
   "metadata": {},
   "outputs": [
    {
     "name": "stdout",
     "output_type": "stream",
     "text": [
      "[[1 2 3]\n",
      " [4 5 6]\n",
      " [7 8 9]]\n",
      "45\n",
      "1\n",
      "9\n"
     ]
    }
   ],
   "source": [
    "# numpy array method\n",
    "third = np.array([[1, 2, 3],\n",
    "                  [4, 5, 6],\n",
    "                  [7, 8, 9]])\n",
    "print(third)\n",
    "print(third.sum())\n",
    "print(third.min())\n",
    "print(third.max())"
   ]
  },
  {
   "cell_type": "code",
   "execution_count": 83,
   "id": "05d50585-ddfb-4175-b32b-c111f446ce22",
   "metadata": {},
   "outputs": [
    {
     "name": "stdout",
     "output_type": "stream",
     "text": [
      "[380 280 332]\n",
      "[252 273 245 222]\n",
      "[95. 70. 83.]\n",
      "[84.         91.         81.66666667 74.        ]\n"
     ]
    }
   ],
   "source": [
    "# 특정 행이나 열에 numpy method 적용하기\n",
    "# 학생별 국어, 영어, 수학 점수 배열 활용\n",
    "# 4명의 학생의 국영수 성적\n",
    "stu_scores = np.array([[99, 93, 60],\n",
    "                       [98, 82, 93],\n",
    "                       [100, 56, 89],\n",
    "                       [83, 49, 90]])\n",
    "# 학생 4명의 과목별 총점\n",
    "print(stu_scores.sum(axis=0))\n",
    "# 각 학생의 과목 총점\n",
    "print(stu_scores.sum(axis=1))\n",
    "# 과목별 평균\n",
    "print(stu_scores.mean(axis=0))\n",
    "# 각 학생의 평균\n",
    "print(stu_scores.mean(axis=1))"
   ]
  },
  {
   "cell_type": "markdown",
   "id": "aa8bd08a-67d0-48b6-8af3-59793baaef7f",
   "metadata": {},
   "source": [
    "## 균일 분포에서 난수 생성\n",
    "* standard scaling : 데이터를 표준 정규 분포화하는 z-score 정규화\n",
    "    * 평균 = 0, 표준편차 = 1로 만들어주는 표준화 스케일링 기법\n",
    "    * 이상값에 민감하다.\n",
    "    * 분류 모델에 적합\n",
    "    * 수치형 변수에만 적용됨.\n",
    "* minmax scaler\n",
    "    * 변수의 범위를 바꿔주는 정규화 스케일링 기법 (0 ~ 1)\n",
    "    * 이상값에 민감하다.\n",
    "    * 회귀 모델에 적합하다.\n",
    "    * 이미지에서 쓰임\n",
    "    * 수치형 변수에만 적용"
   ]
  },
  {
   "cell_type": "code",
   "execution_count": 86,
   "id": "30aa7615-df2f-4e79-a902-dd06a154ec2d",
   "metadata": {},
   "outputs": [
    {
     "data": {
      "text/plain": [
       "array([0.12156912, 0.67074908, 0.82585276, 0.13670659, 0.57509333])"
      ]
     },
     "execution_count": 86,
     "metadata": {},
     "output_type": "execute_result"
    }
   ],
   "source": [
    "# seed 값 생성하지 않는 경우 --> 값을 출력할 때마다 바뀐다.\n",
    "np.random.rand(5)"
   ]
  },
  {
   "cell_type": "markdown",
   "id": "25339c32-45c8-4fde-8d2b-8151588bfb09",
   "metadata": {},
   "source": [
    "* seed 값이 달라지는 것은 고정 값이 달라지는 것과 같은 의미이다.\n",
    "* 즉, 서로 다른 seed를 사용할 경우 numpy로부터 서로 다른 유사난수를 생성하게 한다."
   ]
  },
  {
   "cell_type": "code",
   "execution_count": 87,
   "id": "dc8b121d-c322-4aaf-9091-b7f339d5f77b",
   "metadata": {},
   "outputs": [
    {
     "data": {
      "text/plain": [
       "array([0.54340494, 0.27836939, 0.42451759, 0.84477613, 0.00471886])"
      ]
     },
     "execution_count": 87,
     "metadata": {},
     "output_type": "execute_result"
    }
   ],
   "source": [
    "# seed 값 생성 : 값이 고정됨.\n",
    "np.random.seed(100)\n",
    "np.random.rand(5)"
   ]
  },
  {
   "cell_type": "markdown",
   "id": "1fcb60cc-4e8f-4bda-898f-b6bb6d10556d",
   "metadata": {},
   "source": [
    "* rand() : 0 이상 1 미만 범위의 난수 array를 생성"
   ]
  },
  {
   "cell_type": "code",
   "execution_count": 88,
   "id": "0c70b601-06f5-4789-a70f-54fde57bb929",
   "metadata": {},
   "outputs": [
    {
     "data": {
      "text/plain": [
       "array([[0.12156912, 0.67074908, 0.82585276],\n",
       "       [0.13670659, 0.57509333, 0.89132195],\n",
       "       [0.20920212, 0.18532822, 0.10837689],\n",
       "       [0.21969749, 0.97862378, 0.81168315],\n",
       "       [0.17194101, 0.81622475, 0.27407375]])"
      ]
     },
     "execution_count": 88,
     "metadata": {},
     "output_type": "execute_result"
    }
   ],
   "source": [
    "np.random.rand(5, 3)"
   ]
  },
  {
   "cell_type": "code",
   "execution_count": 90,
   "id": "33b0d469-e6c7-4680-8dc1-1aca4933abfc",
   "metadata": {},
   "outputs": [
    {
     "name": "stdout",
     "output_type": "stream",
     "text": [
      "[-1.11831825  1.61898166  1.54160517 -0.25187914 -0.84243574]\n",
      "[[ 0.18451869  0.9370822   0.73100034  1.36155613]\n",
      " [-0.32623806  0.05567601  0.22239961 -1.443217  ]\n",
      " [-0.75635231  0.81645401  0.75044476 -0.45594693]\n",
      " [ 1.18962227 -1.69061683 -1.35639905 -1.23243451]\n",
      " [-0.54443916 -0.66817174  0.00731456 -0.61293874]]\n"
     ]
    }
   ],
   "source": [
    "# 표준정규분포 normal distribution 난수 생성\n",
    "# 평균 0, 표준편차 1인 정규분포를 바탕으로 생성\n",
    "#  >> 음수 값이 나온다.\n",
    "print(np.random.randn(5))\n",
    "print(np.random.randn(5, 4))"
   ]
  },
  {
   "cell_type": "code",
   "execution_count": 91,
   "id": "fd1da669-82d0-492a-bb7c-c686cbcee4e4",
   "metadata": {},
   "outputs": [
    {
     "name": "stdout",
     "output_type": "stream",
     "text": [
      "[ 0.12997481 -0.17330956 -0.09833101  0.03575078 -0.16135785]\n",
      "[ 0.14707139 -0.11880176 -0.05497462 -0.09400462 -0.08279324]\n"
     ]
    }
   ],
   "source": [
    "# 정규 분포 N(mu, signa^2)\n",
    "mu, sigma = 0, 0.1\n",
    "print(mu + sigma * np.random.randn(5))\n",
    "\n",
    "# normal(평균, 표준편차, 데이터 개수)\n",
    "print(np.random.normal(mu, sigma, 5))"
   ]
  },
  {
   "cell_type": "code",
   "execution_count": 92,
   "id": "7e6bfd97-5515-4a60-85fc-7fc717b5ca8f",
   "metadata": {},
   "outputs": [
    {
     "name": "stdout",
     "output_type": "stream",
     "text": [
      "[11 12 15 17 12 26 13]\n",
      "[11 12 13 15 17 26]\n",
      "6\n"
     ]
    }
   ],
   "source": [
    "# unique()\n",
    "nums = np.array([11, 12, 15, 17, 12, 26, 13])\n",
    "print(nums)\n",
    "\n",
    "# 중복 제거 & 오름차순 정렬\n",
    "print(np.unique(nums))\n",
    "print(len(np.unique(nums)))"
   ]
  },
  {
   "cell_type": "code",
   "execution_count": 93,
   "id": "6eb94f5a-3c8a-4c4d-8c20-a09d49611346",
   "metadata": {},
   "outputs": [
    {
     "name": "stdout",
     "output_type": "stream",
     "text": [
      "    city\n",
      "0   Naju\n",
      "1  Yeosu\n",
      "2  Jinju\n",
      "0     Naju\n",
      "1    Yeosu\n",
      "2    Jinju\n",
      "Name: city, dtype: object\n",
      "object\n"
     ]
    }
   ],
   "source": [
    "# 데이터프레임 만들기\n",
    "data = {'city' : ['Naju', 'Yeosu', 'Jinju']}\n",
    "df = pd.DataFrame(data)\n",
    "print(df) # DataFrame\n",
    "print(df['city']) # Series\n",
    "print(df['city'].dtype)"
   ]
  },
  {
   "cell_type": "code",
   "execution_count": 95,
   "id": "df85edb9-4228-4b24-921a-5114d0e9add5",
   "metadata": {},
   "outputs": [
    {
     "name": "stdout",
     "output_type": "stream",
     "text": [
      "countries\n",
      "   country\n",
      "0    Korea\n",
      "1    China\n",
      "2    Japan\n",
      "3  Germany\n",
      "4       UK\n",
      "5      USA\n"
     ]
    }
   ],
   "source": [
    "data = {'country' : ['Korea', 'China', 'Japan', 'Germany', 'UK', 'USA']}\n",
    "df = pd.DataFrame(data)\n",
    "print(f'countries\\n{df}')"
   ]
  },
  {
   "cell_type": "code",
   "execution_count": 96,
   "id": "2447243d-baaf-4e97-bce5-a88d1e7b8f8f",
   "metadata": {},
   "outputs": [
    {
     "name": "stdout",
     "output_type": "stream",
     "text": [
      "   country\n",
      "0    Korea\n",
      "1    China\n",
      "2    Japan\n",
      "3  Germany\n",
      "4       UK\n",
      "5      USA\n",
      "6    Japan\n",
      "7  Germany\n",
      "8       UK\n",
      "['China' 'Germany' 'Japan' 'Korea' 'UK' 'USA']\n"
     ]
    }
   ],
   "source": [
    "data = {'country' : ['Korea', 'China', 'Japan', 'Germany', 'UK', 'USA', 'Japan', 'Germany', 'UK']}\n",
    "df = pd.DataFrame(data)\n",
    "print(df)\n",
    "print(np.unique(df))"
   ]
  },
  {
   "cell_type": "markdown",
   "id": "d4d93444-c857-4d6e-b3d4-dc601e09663c",
   "metadata": {},
   "source": [
    "## 전치 행렬 : 행과 열을 바꿔준다."
   ]
  },
  {
   "cell_type": "code",
   "execution_count": 97,
   "id": "1ed2f08c-6f77-4b45-8135-57d41d7d2fa6",
   "metadata": {},
   "outputs": [
    {
     "name": "stdout",
     "output_type": "stream",
     "text": [
      "[[1 2]\n",
      " [3 4]\n",
      " [5 6]\n",
      " [7 8]]\n",
      "[[1 3 5 7]\n",
      " [2 4 6 8]]\n"
     ]
    }
   ],
   "source": [
    "arr = np.array([[1, 2], [3, 4], [5, 6], [7, 8]])\n",
    "print(arr)\n",
    "print(arr.T)"
   ]
  },
  {
   "cell_type": "markdown",
   "id": "c4ca7c2c-7173-4311-9498-811be339c422",
   "metadata": {},
   "source": [
    "## 다차원 배열의 평탄화"
   ]
  },
  {
   "cell_type": "code",
   "execution_count": 100,
   "id": "dc0f739f-2fcc-4420-915e-c1a41792a7b3",
   "metadata": {},
   "outputs": [
    {
     "name": "stdout",
     "output_type": "stream",
     "text": [
      "[[1 2]\n",
      " [3 4]\n",
      " [5 6]\n",
      " [7 8]] : 2D.\n",
      "[1 2 3 4 5 6 7 8] : 1D.\n"
     ]
    }
   ],
   "source": [
    "print(f'{arr} : {arr.ndim}D.')\n",
    "print(f'{arr.flatten()} : {arr.flatten().ndim}D.')"
   ]
  },
  {
   "cell_type": "markdown",
   "id": "a93a8202-e4f6-44f1-8b7c-7b5c8f9e582c",
   "metadata": {},
   "source": [
    "## numpy 활용, csv 파일 읽기"
   ]
  },
  {
   "cell_type": "code",
   "execution_count": 103,
   "id": "d0e3e7f8-0372-4c10-9b40-dbe139ec5e4e",
   "metadata": {},
   "outputs": [
    {
     "data": {
      "text/html": [
       "<div>\n",
       "<style scoped>\n",
       "    .dataframe tbody tr th:only-of-type {\n",
       "        vertical-align: middle;\n",
       "    }\n",
       "\n",
       "    .dataframe tbody tr th {\n",
       "        vertical-align: top;\n",
       "    }\n",
       "\n",
       "    .dataframe thead th {\n",
       "        text-align: right;\n",
       "    }\n",
       "</style>\n",
       "<table border=\"1\" class=\"dataframe\">\n",
       "  <thead>\n",
       "    <tr style=\"text-align: right;\">\n",
       "      <th></th>\n",
       "      <th>0</th>\n",
       "      <th>1</th>\n",
       "      <th>2</th>\n",
       "      <th>3</th>\n",
       "      <th>4</th>\n",
       "    </tr>\n",
       "  </thead>\n",
       "  <tbody>\n",
       "    <tr>\n",
       "      <th>0</th>\n",
       "      <td>'KR'</td>\n",
       "      <td>'Korea'</td>\n",
       "      <td>98480</td>\n",
       "      <td>'Seoul'</td>\n",
       "      <td>48422644</td>\n",
       "    </tr>\n",
       "    <tr>\n",
       "      <th>1</th>\n",
       "      <td>'US'</td>\n",
       "      <td>'USA'</td>\n",
       "      <td>9629091</td>\n",
       "      <td>'Washington'</td>\n",
       "      <td>310232863</td>\n",
       "    </tr>\n",
       "    <tr>\n",
       "      <th>2</th>\n",
       "      <td>'JP'</td>\n",
       "      <td>'Japan'</td>\n",
       "      <td>377835</td>\n",
       "      <td>'Tokyo'</td>\n",
       "      <td>127288000</td>\n",
       "    </tr>\n",
       "    <tr>\n",
       "      <th>3</th>\n",
       "      <td>'CN'</td>\n",
       "      <td>'China'</td>\n",
       "      <td>9596960</td>\n",
       "      <td>'Beijing'</td>\n",
       "      <td>1330044000</td>\n",
       "    </tr>\n",
       "    <tr>\n",
       "      <th>4</th>\n",
       "      <td>'RU'</td>\n",
       "      <td>'Russia'</td>\n",
       "      <td>17100000</td>\n",
       "      <td>'Moscow'</td>\n",
       "      <td>140702000</td>\n",
       "    </tr>\n",
       "  </tbody>\n",
       "</table>\n",
       "</div>"
      ],
      "text/plain": [
       "      0          1         2              3           4\n",
       "0  'KR'    'Korea'     98480        'Seoul'    48422644\n",
       "1  'US'      'USA'   9629091   'Washington'   310232863\n",
       "2  'JP'    'Japan'    377835        'Tokyo'   127288000\n",
       "3  'CN'    'China'   9596960      'Beijing'  1330044000\n",
       "4  'RU'   'Russia'  17100000       'Moscow'   140702000"
      ]
     },
     "execution_count": 103,
     "metadata": {},
     "output_type": "execute_result"
    }
   ],
   "source": [
    "# countries_data.csv 활용\n",
    "path = '../data/countries_data.csv'\n",
    "pd.read_csv(path, header=None)"
   ]
  },
  {
   "cell_type": "code",
   "execution_count": 105,
   "id": "2e1bc410-8420-4a57-96a2-3dbc6a34047a",
   "metadata": {},
   "outputs": [
    {
     "data": {
      "text/html": [
       "<div>\n",
       "<style scoped>\n",
       "    .dataframe tbody tr th:only-of-type {\n",
       "        vertical-align: middle;\n",
       "    }\n",
       "\n",
       "    .dataframe tbody tr th {\n",
       "        vertical-align: top;\n",
       "    }\n",
       "\n",
       "    .dataframe thead th {\n",
       "        text-align: right;\n",
       "    }\n",
       "</style>\n",
       "<table border=\"1\" class=\"dataframe\">\n",
       "  <thead>\n",
       "    <tr style=\"text-align: right;\">\n",
       "      <th></th>\n",
       "      <th>nation domain</th>\n",
       "      <th>nation</th>\n",
       "      <th>zip code</th>\n",
       "      <th>capital</th>\n",
       "      <th>code</th>\n",
       "    </tr>\n",
       "  </thead>\n",
       "  <tbody>\n",
       "    <tr>\n",
       "      <th>0</th>\n",
       "      <td>'KR'</td>\n",
       "      <td>'Korea'</td>\n",
       "      <td>98480</td>\n",
       "      <td>'Seoul'</td>\n",
       "      <td>48422644</td>\n",
       "    </tr>\n",
       "    <tr>\n",
       "      <th>1</th>\n",
       "      <td>'US'</td>\n",
       "      <td>'USA'</td>\n",
       "      <td>9629091</td>\n",
       "      <td>'Washington'</td>\n",
       "      <td>310232863</td>\n",
       "    </tr>\n",
       "    <tr>\n",
       "      <th>2</th>\n",
       "      <td>'JP'</td>\n",
       "      <td>'Japan'</td>\n",
       "      <td>377835</td>\n",
       "      <td>'Tokyo'</td>\n",
       "      <td>127288000</td>\n",
       "    </tr>\n",
       "    <tr>\n",
       "      <th>3</th>\n",
       "      <td>'CN'</td>\n",
       "      <td>'China'</td>\n",
       "      <td>9596960</td>\n",
       "      <td>'Beijing'</td>\n",
       "      <td>1330044000</td>\n",
       "    </tr>\n",
       "    <tr>\n",
       "      <th>4</th>\n",
       "      <td>'RU'</td>\n",
       "      <td>'Russia'</td>\n",
       "      <td>17100000</td>\n",
       "      <td>'Moscow'</td>\n",
       "      <td>140702000</td>\n",
       "    </tr>\n",
       "  </tbody>\n",
       "</table>\n",
       "</div>"
      ],
      "text/plain": [
       "  nation domain     nation  zip code        capital        code\n",
       "0          'KR'    'Korea'     98480        'Seoul'    48422644\n",
       "1          'US'      'USA'   9629091   'Washington'   310232863\n",
       "2          'JP'    'Japan'    377835        'Tokyo'   127288000\n",
       "3          'CN'    'China'   9596960      'Beijing'  1330044000\n",
       "4          'RU'   'Russia'  17100000       'Moscow'   140702000"
      ]
     },
     "execution_count": 105,
     "metadata": {},
     "output_type": "execute_result"
    }
   ],
   "source": [
    "# 컬럼명 넣기 1\n",
    "raw = pd.read_csv(path, header=None,\n",
    "                  names=['nation domain', 'nation', 'zip code', 'capital', 'code'])\n",
    "df = raw.copy()\n",
    "df"
   ]
  },
  {
   "cell_type": "code",
   "execution_count": 106,
   "id": "35831c4e-86d4-408e-a3df-2fed208a76ee",
   "metadata": {},
   "outputs": [
    {
     "data": {
      "text/html": [
       "<div>\n",
       "<style scoped>\n",
       "    .dataframe tbody tr th:only-of-type {\n",
       "        vertical-align: middle;\n",
       "    }\n",
       "\n",
       "    .dataframe tbody tr th {\n",
       "        vertical-align: top;\n",
       "    }\n",
       "\n",
       "    .dataframe thead th {\n",
       "        text-align: right;\n",
       "    }\n",
       "</style>\n",
       "<table border=\"1\" class=\"dataframe\">\n",
       "  <thead>\n",
       "    <tr style=\"text-align: right;\">\n",
       "      <th></th>\n",
       "      <th>nation domain</th>\n",
       "      <th>nation</th>\n",
       "      <th>zip code</th>\n",
       "      <th>capital</th>\n",
       "      <th>code</th>\n",
       "    </tr>\n",
       "  </thead>\n",
       "  <tbody>\n",
       "    <tr>\n",
       "      <th>0</th>\n",
       "      <td>'KR'</td>\n",
       "      <td>'Korea'</td>\n",
       "      <td>98480</td>\n",
       "      <td>'Seoul'</td>\n",
       "      <td>48422644</td>\n",
       "    </tr>\n",
       "    <tr>\n",
       "      <th>1</th>\n",
       "      <td>'US'</td>\n",
       "      <td>'USA'</td>\n",
       "      <td>9629091</td>\n",
       "      <td>'Washington'</td>\n",
       "      <td>310232863</td>\n",
       "    </tr>\n",
       "    <tr>\n",
       "      <th>2</th>\n",
       "      <td>'JP'</td>\n",
       "      <td>'Japan'</td>\n",
       "      <td>377835</td>\n",
       "      <td>'Tokyo'</td>\n",
       "      <td>127288000</td>\n",
       "    </tr>\n",
       "    <tr>\n",
       "      <th>3</th>\n",
       "      <td>'CN'</td>\n",
       "      <td>'China'</td>\n",
       "      <td>9596960</td>\n",
       "      <td>'Beijing'</td>\n",
       "      <td>1330044000</td>\n",
       "    </tr>\n",
       "    <tr>\n",
       "      <th>4</th>\n",
       "      <td>'RU'</td>\n",
       "      <td>'Russia'</td>\n",
       "      <td>17100000</td>\n",
       "      <td>'Moscow'</td>\n",
       "      <td>140702000</td>\n",
       "    </tr>\n",
       "  </tbody>\n",
       "</table>\n",
       "</div>"
      ],
      "text/plain": [
       "  nation domain     nation  zip code        capital        code\n",
       "0          'KR'    'Korea'     98480        'Seoul'    48422644\n",
       "1          'US'      'USA'   9629091   'Washington'   310232863\n",
       "2          'JP'    'Japan'    377835        'Tokyo'   127288000\n",
       "3          'CN'    'China'   9596960      'Beijing'  1330044000\n",
       "4          'RU'   'Russia'  17100000       'Moscow'   140702000"
      ]
     },
     "execution_count": 106,
     "metadata": {},
     "output_type": "execute_result"
    }
   ],
   "source": [
    "# 컬럼명 넣기 2\n",
    "df = pd.read_csv(path, header=None)\n",
    "new_column = {0 : 'nation domain',\n",
    "              1 : 'nation',\n",
    "              2 : 'zip code',\n",
    "              3 : 'capital',\n",
    "              4 : 'code'}\n",
    "\n",
    "df.rename(columns=new_column, inplace=True)\n",
    "df"
   ]
  },
  {
   "cell_type": "code",
   "execution_count": 107,
   "id": "70de62b5-afdf-4f9c-b1ea-a604afff45a9",
   "metadata": {},
   "outputs": [
    {
     "data": {
      "image/png": "[encoded data removed]",
      "text/plain": [
       "<Figure size 900x400 with 2 Axes>"
      ]
     },
     "metadata": {},
     "output_type": "display_data"
    }
   ],
   "source": [
    "# 1x2 그래프 그리기\n",
    "# 그래프 크기\n",
    "fig, axs = plt.subplots(nrows=1, ncols=2, figsize=(9, 4))\n",
    "\n",
    "np.random.seed(100)\n",
    "all_data = [np.random.normal(0, std, 100) for std in range(6, 10)]\n",
    "\n",
    "# violinplot 이용\n",
    "# violinplot은 평균, 중앙값 둘 다 볼 수 있음. 선택해서 볼 수 있음.\n",
    "axs[0].violinplot(all_data,\n",
    "                  showmeans = False,\n",
    "                  showmedians = True)\n",
    "# 그래프 제목 설정\n",
    "axs[0].set_title('Violin Plot')\n",
    "\n",
    "# boxplot 이용\n",
    "# boxplot은 원래 중앙값을 보여줌\n",
    "axs[1].boxplot(all_data)\n",
    "# 그래프 제목 설정\n",
    "axs[1].set_title('Box Plot')\n",
    "\n",
    "for ax in axs:\n",
    "    # y축 그리드 설정\n",
    "    ax.yaxis.grid(True)\n",
    "    # x축의 눈금명 변경 (x축을 0으로 보고 시작 --> +1 을 해주어야 한다.)\n",
    "    ax.set_xticks([y+1 for y in range(len(all_data))],\n",
    "                  labels=['std6', 'std7', 'std8', 'std9'])\n",
    "    # x축 이름 설정\n",
    "    ax.set_xlabel('Four Separated Samples')\n",
    "    # y축 이름 설정\n",
    "    ax.set_ylabel('Observed Values')\n",
    "    \n",
    "# 그래프 보여주기\n",
    "plt.show()"
   ]
  },
  {
   "cell_type": "code",
   "execution_count": null,
   "id": "a70ef1ba-3b9e-48aa-adbd-2e2468d0246f",
   "metadata": {},
   "outputs": [],
   "source": []
  },
  {
   "cell_type": "code",
   "execution_count": null,
   "id": "cd4cb8f7-05d2-46b9-b929-49c6018e5db8",
   "metadata": {},
   "outputs": [],
   "source": []
  }
 ],
 "metadata": {
  "kernelspec": {
   "display_name": "Python 3 (ipykernel)",
   "language": "python",
   "name": "python3"
  },
  "language_info": {
   "codemirror_mode": {
    "name": "ipython",
    "version": 3
   },
   "file_extension": ".py",
   "mimetype": "text/x-python",
   "name": "python",
   "nbconvert_exporter": "python",
   "pygments_lexer": "ipython3",
   "version": "3.11.7"
  }
 },
 "nbformat": 4,
 "nbformat_minor": 5
}
